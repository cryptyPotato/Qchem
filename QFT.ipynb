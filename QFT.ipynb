{
 "cells": [
  {
   "cell_type": "markdown",
   "id": "267d5eaa-6245-42ef-807f-10e3e76ff250",
   "metadata": {
    "tags": []
   },
   "source": [
    "## Libraries"
   ]
  },
  {
   "cell_type": "code",
   "execution_count": 1,
   "id": "f07cf531-7a30-47a3-9183-4ac39313d37d",
   "metadata": {
    "tags": []
   },
   "outputs": [],
   "source": [
    "import numpy as np\n",
    "\n",
    "# importing Qiskit\n",
    "from qiskit import QuantumCircuit, transpile, assemble, Aer, IBMQ,execute, QuantumRegister\n",
    "from qiskit.utils import QuantumInstance\n",
    "from qiskit.providers.ibmq import least_busy\n",
    "from qiskit.tools.monitor import job_monitor\n",
    "from qiskit.visualization import plot_histogram, plot_bloch_multivector\n",
    "from qiskit import BasicAer\n",
    "from qiskit.circuit import Gate\n",
    "from qiskit.extensions import UnitaryGate\n",
    "from math import ceil\n",
    "import matplotlib.pyplot as plt"
   ]
  },
  {
   "cell_type": "code",
   "execution_count": 2,
   "id": "cb678606-d88a-4917-92b8-7661524986d5",
   "metadata": {},
   "outputs": [],
   "source": [
    "backend = BasicAer.get_backend('qasm_simulator')"
   ]
  },
  {
   "cell_type": "code",
   "execution_count": 3,
   "id": "16d6054e-9600-45f2-b870-acd29ea24d73",
   "metadata": {},
   "outputs": [],
   "source": [
    "def qft(qfc,m,n):\n",
    "    i = n\n",
    "    while i >= m :\n",
    "        qfc.h(i)\n",
    "        for j in range(m,i):\n",
    "            qfc.cp(2*np.pi*1/(2**(i-j+1)),i,j)\n",
    "        i-=1\n",
    "    for k in range(m,(n+1+m)//2):\n",
    "        qfc.swap(k,n+m-k)\n",
    "    #qfc.barrier()\n",
    "    return qfc\n",
    "\n",
    "def inv_qft(iqfc,m,n):\n",
    "    qf = qft(QuantumCircuit(n-m+1),m,n)\n",
    "    iqf = qf.inverse()\n",
    "    iqfc.compose(iqf,iqfc.qubits[m:n+1])\n",
    "    return iqfc\n",
    "\n",
    "def qpe(n,unitary,intial):\n",
    "    qpc = QuantumCircuit(2*n,n)\n",
    "    for i in range(n):\n",
    "        qpc.h(i)\n",
    "    qpc.initialize(initial,qpc.qubits[n:2*n])\n",
    "    \n",
    "    c_unitary = unitary.to_gate().control(1)\n",
    "    \n",
    "    for i in range(n):\n",
    "        for j in range(2**(n-i)):\n",
    "            qpc.append(c_unitary,[i]+[x for x in range(n,2*n)])\n",
    "    \n",
    "    inv_qft(qpc,0,n-1)\n",
    "    \n",
    "    for i in range(n):\n",
    "        qpc.measure(i,i)\n",
    "    return qpc\n",
    "def iqpe(n,unitary,initial,k_precision):\n",
    "    phase = 0\n",
    "    for k in reversed(range(k_precision)):\n",
    "        iqc = QuantumCircuit(n+1,1)\n",
    "        iqc.h(0)\n",
    "        iqc.initialize(initial,iqc.qubits[1:])\n",
    "        #iqc.x(1)\n",
    "        c_unitary = unitary.control(1)\n",
    "        \n",
    "        for order in range(2**k):\n",
    "            iqc.append(c_unitary,iqc.qubits[:])\n",
    " \n",
    "        phase_shift = 2*np.pi*phase*2**k\n",
    "        iqc.p(-phase_shift,0)\n",
    "        iqc.h(0)\n",
    "        iqc.measure(0,0)\n",
    "        \n",
    "        job = execute(iqc, backend, shots=1000)\n",
    "        result = job.result()\n",
    "        counts = result.get_counts()\n",
    "        value = int(max(counts, key=counts.get))\n",
    "        \n",
    "        phase += value / 2 ** (k + 1)\n",
    "        \n",
    "    return phase"
   ]
  },
  {
   "cell_type": "markdown",
   "id": "6653c6ac-4aae-474c-977b-5a03a905a034",
   "metadata": {
    "tags": []
   },
   "source": [
    "## Square Well Potential"
   ]
  },
  {
   "cell_type": "code",
   "execution_count": 30,
   "id": "706beaf8-b643-4b66-8fa3-202087e7bc22",
   "metadata": {},
   "outputs": [
    {
     "data": {
      "image/png": "[encoded data removed]",
      "text/plain": [
       "<Figure size 432x288 with 1 Axes>"
      ]
     },
     "metadata": {
      "needs_background": "light"
     },
     "output_type": "display_data"
    }
   ],
   "source": [
    "#DEFINE INITIAL WAVEFUNCTION\n",
    "\n",
    "L = 0.5 #width of square well\n",
    "n = 4 #number of qubits\n",
    "x = np.linspace(-L, L, num=2**n) #number of x points\n",
    "\n",
    "wvfunc = np.exp(-10*x**2) #Initial wavefunciton\n",
    "Normalisation_Constant = np.sqrt(np.sum(wvfunc**2)) \n",
    "normalized_wvfunc = wvfunc / Normalisation_Constant ##Normalized initial wavefunction\n",
    "plt.plot(x, normalized_wvfunc,'ro')\n",
    "plt.ylabel('$e^{-10 x^2}$')\n",
    "plt.xlabel('x')\n",
    "plt.title('Ground State Wavefunction')\n",
    "plt.savefig('swp-initial-state.png')"
   ]
  },
  {
   "cell_type": "markdown",
   "id": "99072a3a-97c1-4a46-849e-d539291ca1d7",
   "metadata": {
    "tags": []
   },
   "source": [
    "### Hamiltonian"
   ]
  },
  {
   "cell_type": "code",
   "execution_count": 8,
   "id": "2cef1e6d-2ef7-4a30-9074-413ad0e0b464",
   "metadata": {
    "tags": []
   },
   "outputs": [],
   "source": [
    "#DEFINE PARAMETERS\n",
    "n = 4\n",
    "qubit_num = n #number of qubits\n",
    "qubit_tot = 2**qubit_num #number of possible states\n",
    "dt = 0.0012 #timestep\n",
    "v = 100 #potential within the system (v1, v0=0)\n",
    "iteration = 50 #number of iteration\n",
    "t = iteration*dt #time evolution\n",
    "ALPHA = -(2*np.pi*qubit_tot)**2/2 * dt\n",
    "BETA = ALPHA"
   ]
  },
  {
   "cell_type": "code",
   "execution_count": 9,
   "id": "b4b1e608-fa35-4600-b9d8-73a871df26cb",
   "metadata": {
    "tags": []
   },
   "outputs": [],
   "source": [
    "def potential(circ,n):\n",
    "    \n",
    "    pot = -dt*v\n",
    "    i = 0 + 1j\n",
    "    potential_matrix = np.array([[np.exp(i*pot/2), 0], [0, np.exp(i*pot/2)]])\n",
    "    potential_gate = UnitaryGate(potential_matrix)\n",
    "    \n",
    "    #Create Potential unitary gate\n",
    "    qcc = QuantumCircuit(1)\n",
    "    qcc.append(potential_gate, [0])\n",
    "    potgate = qcc.to_gate(label='Potential').control(1)\n",
    "    \n",
    "    circ.x(n-2)\n",
    "    circ.cx(n-2,n-1)\n",
    "    circ.x(n-2)\n",
    "    #circ.barrier()\n",
    "    circ.x(n-1)\n",
    "    circ.append(potgate,[n-1,n-2])\n",
    "    circ.x(n-1)\n",
    "    #circ.barrier()\n",
    "    circ.x(n-2)\n",
    "    circ.cx(n-2,n-1)\n",
    "    circ.x(n-2)\n",
    "    \n",
    "    return circ\n",
    "\n",
    "def constant_phase(circuit):\n",
    "    \"\"\"\n",
    "    Add constant phase to the circuit\n",
    "    Args:\n",
    "        circuit, register, number of qubits\n",
    "    \"\"\"\n",
    "    i = 0 + 1j\n",
    "    constant_phase = np.array([[np.exp(i*ALPHA/4), 0], [0, np.exp(i*ALPHA/4)]])\n",
    "    cp_gate = UnitaryGate(constant_phase, 'Constant')\n",
    "    circuit.append(cp_gate, [0])\n",
    "    #circuit.barrier()\n",
    "    \n",
    "    return circuit\n",
    "\n",
    "def rotate1(circuit, n):\n",
    "    \"\"\"\n",
    "    Add shift phase gate to the circuit\n",
    "    Args:\n",
    "        circuit, register, number of qubits\n",
    "    \"\"\"\n",
    "    \n",
    "    for m in range(n):\n",
    "        theta = -ALPHA * 2**(m-n)\n",
    "        circuit.p(theta, m)\n",
    "        \n",
    "    return circuit\n",
    "\n",
    "\n",
    "def rotate2(circuit,n):\n",
    "    \"\"\"\n",
    "    Add constant phase to the circuit\n",
    "    Args:\n",
    "        circuit, register, number of qubits\n",
    "    \"\"\"\n",
    "    \n",
    "    for m in range(n):\n",
    "        theta = ALPHA * 2**(2*(m-n))\n",
    "        circuit.p(theta, m)\n",
    "        \n",
    "    return circuit\n",
    "\n",
    "def kinetic(circuit, qubit):\n",
    "    \"\"\"\n",
    "    Define energy kinetic operator\n",
    "    Args:\n",
    "        circuit, register, number of qubits\n",
    "    Returns:\n",
    "        Add energy kinetics to the system\n",
    "    \"\"\"\n",
    "    \n",
    "    constant_phase(circuit)\n",
    "    rotate1(circuit,qubit)\n",
    "    rotate2(circuit,qubit)\n",
    "    \n",
    "    n = np.arange(qubit-1, -1, -1, dtype=float)\n",
    "    \n",
    "    for i in n:\n",
    "        for j in np.arange(i-1, -1, -1, dtype=float):\n",
    "            kin = 2*ALPHA*2**(j + i - 2*(len(n)))\n",
    "            circuit.cp(kin,int(j), int(i))\n",
    "            \n",
    "    return circuit\n",
    "\n"
   ]
  },
  {
   "cell_type": "code",
   "execution_count": 15,
   "id": "60b8ebad-4848-4a31-8522-18c540ef991b",
   "metadata": {},
   "outputs": [],
   "source": [
    "potent = QuantumCircuit(4)\n",
    "potential(potent,4)\n",
    "potent.draw('mpl').savefig('SWP-potential.png')\n",
    "\n",
    "kine = QuantumCircuit(4)\n",
    "kinetic(kine,4)\n",
    "kine.draw('mpl').savefig('SWP-ground-kinetic.png')"
   ]
  },
  {
   "cell_type": "markdown",
   "id": "30689c95-9e5d-413a-a158-9a6d048e4488",
   "metadata": {},
   "source": [
    "### Hamiltonian Time Evolution: $ e^{-i H t} $"
   ]
  },
  {
   "cell_type": "code",
   "execution_count": 31,
   "id": "1bb36b47-a4d0-42fc-a34a-9ad602087a46",
   "metadata": {
    "tags": []
   },
   "outputs": [],
   "source": [
    "def time_evolution(circuit,qubit_num):\n",
    "    for i in range(iteration):\n",
    "        #POTENTIAL\n",
    "        potential(circuit,  qubit_num)\n",
    "        #circuit.barrier()\n",
    "\n",
    "        #QFT\n",
    "        qft(circuit,0,qubit_num-1)\n",
    "        #circuit.barrier()\n",
    "\n",
    "        #KINETIC\n",
    "        kinetic(circuit, qubit_num)\n",
    "        #circuit.barrier()\n",
    "\n",
    "        #INVERS QFT\n",
    "        circuit = inv_qft(circuit,0,qubit_num-1)\n",
    "        #circuit.barrier()\n",
    "\n",
    "\n",
    "        #POTENTIAL\n",
    "        potential(circuit,qubit_num)\n",
    "        #circuit.barrier()\n",
    "    return circuit\n",
    "\n",
    "\n",
    "unitary = QuantumCircuit(4)\n",
    "c_unitary = time_evolution(unitary,4).to_gate(label=\"Unitary\").control(1)"
   ]
  },
  {
   "cell_type": "markdown",
   "id": "30ad2b2a-23b6-42fa-9f1e-44c968cf5fc0",
   "metadata": {},
   "source": [
    "$$ \\theta = \\text{Phase estimation from IQPE} $$\n",
    "$$Energy, E= - \\frac{2\\pi \\theta}{t}$$ "
   ]
  },
  {
   "cell_type": "code",
   "execution_count": 32,
   "id": "77e856e9-d6ba-4871-a56e-1ca4c63812dc",
   "metadata": {},
   "outputs": [],
   "source": [
    "theta = iqpe(4,unitary,normalized_wvfunc,5)"
   ]
  },
  {
   "cell_type": "code",
   "execution_count": 30,
   "id": "34f96e10-4cbf-4237-a4fe-3cde0b41a507",
   "metadata": {},
   "outputs": [
    {
     "name": "stdout",
     "output_type": "stream",
     "text": [
      "Energy is -85.08480103472357\n"
     ]
    }
   ],
   "source": [
    "E = -theta*2*np.pi/0.06\n",
    "print(f'Energy is {E}')"
   ]
  },
  {
   "cell_type": "markdown",
   "id": "f3311b1d-219d-4277-be41-939b6dc78c8d",
   "metadata": {},
   "source": [
    "### Square well = exicited state"
   ]
  },
  {
   "cell_type": "code",
   "execution_count": 31,
   "id": "6fbcaec4-952d-4c93-b9db-636157be0531",
   "metadata": {},
   "outputs": [
    {
     "data": {
      "image/png": "[encoded data removed]",
      "text/plain": [
       "<Figure size 432x288 with 1 Axes>"
      ]
     },
     "metadata": {
      "needs_background": "light"
     },
     "output_type": "display_data"
    }
   ],
   "source": [
    "#DEFINE INITIAL WAVEFUNCTION\n",
    "\n",
    "L = 0.5 #width of square well\n",
    "n = 4 #number of qubits\n",
    "x = np.linspace(-L, L, num=2**n) #number of x points\n",
    "\n",
    "wvfunc = x*np.exp(-10*x**2) #Initial wavefunciton\n",
    "Normalisation_Constant = np.sqrt(np.sum(wvfunc**2)) \n",
    "normalized_wvfunc = wvfunc / Normalisation_Constant ##Normalized initial wavefunction\n",
    "plt.plot(x, normalized_wvfunc,'ro')\n",
    "plt.ylabel('$x e^{-10 x^2}$')\n",
    "plt.xlabel('x')\n",
    "plt.title('Excited State Wavefunction')\n",
    "plt.savefig('swp-initial-state-first.png')"
   ]
  },
  {
   "cell_type": "markdown",
   "id": "2c4a9914-96a6-41d1-bd84-70ae75d9bc96",
   "metadata": {
    "tags": []
   },
   "source": [
    "### Hamiltonian"
   ]
  },
  {
   "cell_type": "code",
   "execution_count": 11,
   "id": "9ed36617-b189-4f42-8fec-be5b371d3791",
   "metadata": {
    "tags": []
   },
   "outputs": [],
   "source": [
    "#DEFINE PARAMETERS\n",
    "n = 4\n",
    "qubit_num = n #number of qubits\n",
    "qubit_tot = 2**qubit_num #number of possible states\n",
    "dt = 0.0012 #timestep\n",
    "v = 100 #potential within the system (v1, v0=0)\n",
    "iteration = 50 #number of iteration\n",
    "t = iteration*dt #time evolution\n",
    "ALPHA = -(2*np.pi*qubit_tot)**2/2 * dt\n"
   ]
  },
  {
   "cell_type": "code",
   "execution_count": 12,
   "id": "db684a1e-10f8-4d84-b244-66befed19eee",
   "metadata": {
    "tags": []
   },
   "outputs": [],
   "source": [
    "def potential(circ,n):\n",
    "    \n",
    "    pot = -dt*v\n",
    "    i = 0 + 1j\n",
    "    potential_matrix = np.array([[np.exp(i*pot/2), 0], [0, np.exp(i*pot/2)]])\n",
    "    potential_gate = UnitaryGate(potential_matrix)\n",
    "    \n",
    "    #Create Potential unitary gate\n",
    "    qcc = QuantumCircuit(1)\n",
    "    qcc.append(potential_gate, [0])\n",
    "    potgate = qcc.to_gate(label='Potential').control(1)\n",
    "    \n",
    "    circ.x(n-2)\n",
    "    circ.cx(n-2,n-1)\n",
    "    circ.x(n-2)\n",
    "    #circ.barrier()\n",
    "    circ.x(n-1)\n",
    "    circ.append(potgate,[n-1,n-2])\n",
    "    circ.x(n-1)\n",
    "    #circ.barrier()\n",
    "    circ.x(n-2)\n",
    "    circ.cx(n-2,n-1)\n",
    "    circ.x(n-2)\n",
    "    \n",
    "    return circ\n",
    "\n",
    "def constant_phase(circuit):\n",
    "    \"\"\"\n",
    "    Add constant phase to the circuit\n",
    "    Args:\n",
    "        circuit, register, number of qubits\n",
    "    \"\"\"\n",
    "    i = 0 + 1j\n",
    "    constant_phase = np.array([[np.exp(i*ALPHA/4), 0], [0, np.exp(i*ALPHA/4)]])\n",
    "    cp_gate = UnitaryGate(constant_phase, 'Constant')\n",
    "    circuit.append(cp_gate, [0])\n",
    "    #circuit.barrier()\n",
    "    \n",
    "    return circuit\n",
    "\n",
    "def rotate1(circuit, n):\n",
    "    \"\"\"\n",
    "    Add shift phase gate to the circuit\n",
    "    Args:\n",
    "        circuit, register, number of qubits\n",
    "    \"\"\"\n",
    "    \n",
    "    for m in range(n):\n",
    "        theta = -ALPHA * 2**(m-n)\n",
    "        circuit.p(theta, m)\n",
    "        \n",
    "    return circuit\n",
    "\n",
    "\n",
    "def rotate2(circuit,n):\n",
    "    \"\"\"\n",
    "    Add constant phase to the circuit\n",
    "    Args:\n",
    "        circuit, register, number of qubits\n",
    "    \"\"\"\n",
    "    \n",
    "    for m in range(n):\n",
    "        theta = ALPHA * 2**(2*(m-n))\n",
    "        circuit.p(theta, m)\n",
    "        \n",
    "    return circuit\n",
    "\n",
    "def kinetic(circuit, qubit):\n",
    "    \"\"\"\n",
    "    Define energy kinetic operator\n",
    "    Args:\n",
    "        circuit, register, number of qubits\n",
    "    Returns:\n",
    "        Add energy kinetics to the system\n",
    "    \"\"\"\n",
    "    \n",
    "    constant_phase(circuit)\n",
    "    rotate1(circuit,qubit)\n",
    "    rotate2(circuit,qubit)\n",
    "    \n",
    "    n = np.arange(qubit-1, -1, -1, dtype=float)\n",
    "    \n",
    "    for i in n:\n",
    "        for j in np.arange(i-1, -1, -1, dtype=float):\n",
    "            kin = 2*ALPHA*2**(j + i - 2*(len(n)))\n",
    "            circuit.cp(kin,int(j), int(i))\n",
    "            \n",
    "    return circuit\n",
    "\n"
   ]
  },
  {
   "cell_type": "markdown",
   "id": "d4762a65-125d-43a6-bb48-a9db0c9c92aa",
   "metadata": {},
   "source": [
    "### Hamiltonian Time Evolution: $ e^{-i H t} $"
   ]
  },
  {
   "cell_type": "code",
   "execution_count": 13,
   "id": "f9dd36b0-4fd6-4e98-8591-459ae43ad598",
   "metadata": {
    "tags": []
   },
   "outputs": [],
   "source": [
    "def time_evolution(circuit,qubit_num):\n",
    "    for i in range(iteration):\n",
    "        #POTENTIAL\n",
    "        potential(circuit,  qubit_num)\n",
    "        #circuit.barrier()\n",
    "\n",
    "        #QFT\n",
    "        qft(circuit,0,qubit_num-1)\n",
    "        #circuit.barrier()\n",
    "\n",
    "        #KINETIC\n",
    "        kinetic(circuit, qubit_num)\n",
    "        #circuit.barrier()\n",
    "\n",
    "        #INVERS QFT\n",
    "        circuit = inv_qft(circuit,0,qubit_num-1)\n",
    "        #circuit.barrier()\n",
    "\n",
    "\n",
    "        #POTENTIAL\n",
    "        potential(circuit,qubit_num)\n",
    "        #circuit.barrier()\n",
    "    return circuit\n",
    "\n",
    "\n",
    "unitary = QuantumCircuit(4)\n",
    "c_unitary = time_evolution(unitary,4).to_gate(label=\"Unitary\").control(1)"
   ]
  },
  {
   "cell_type": "markdown",
   "id": "63cdde03-ea16-421a-8aad-ed1a0a7d0f3b",
   "metadata": {},
   "source": [
    "$$ \\theta = \\text{Phase estimation from IQPE} $$\n",
    "$$Energy, E= - \\frac{2\\pi \\theta}{t}$$ "
   ]
  },
  {
   "cell_type": "code",
   "execution_count": 17,
   "id": "32dc1106-0b94-4af4-bff4-5f873b0dbb06",
   "metadata": {},
   "outputs": [],
   "source": [
    "\n",
    "circuit = QuantumCircuit(4)\n",
    " #POTENTIAL\n",
    "potential(circuit,  qubit_num)\n",
    "#circuit.barrier()\n",
    "\n",
    "#QFT\n",
    "qft(circuit,0,qubit_num-1)\n",
    "#circuit.barrier()\n",
    "\n",
    "#KINETIC\n",
    "kinetic(circuit, qubit_num)\n",
    "#circuit.barrier()\n",
    "\n",
    "#INVERS QFT\n",
    "circuit = inv_qft(circuit,0,qubit_num-1)\n",
    "#circuit.barrier()\n",
    "\n",
    "\n",
    "#POTENTIAL\n",
    "potential(circuit,qubit_num)\n",
    "#circuit.barrier()\n",
    "\n",
    "circuit.draw('mpl').savefig('swp-unitary.png')"
   ]
  },
  {
   "cell_type": "code",
   "execution_count": 14,
   "id": "abe9b735-1b6a-4f16-98a7-48387e5955fa",
   "metadata": {},
   "outputs": [],
   "source": [
    "theta = iqpe(4,unitary,normalized_wvfunc,5)"
   ]
  },
  {
   "cell_type": "code",
   "execution_count": 15,
   "id": "1c203e67-f719-44b0-8e5c-eeb1335b9b15",
   "metadata": {},
   "outputs": [
    {
     "name": "stdout",
     "output_type": "stream",
     "text": [
      "Energy is -58.90486225480862\n"
     ]
    }
   ],
   "source": [
    "E = -theta*2*np.pi/0.06\n",
    "print(f'Energy is {E}')"
   ]
  }
 ],
 "metadata": {
  "kernelspec": {
   "display_name": "Python 3 (ipykernel)",
   "language": "python",
   "name": "python3"
  },
  "language_info": {
   "codemirror_mode": {
    "name": "ipython",
    "version": 3
   },
   "file_extension": ".py",
   "mimetype": "text/x-python",
   "name": "python",
   "nbconvert_exporter": "python",
   "pygments_lexer": "ipython3",
   "version": "3.10.4"
  }
 },
 "nbformat": 4,
 "nbformat_minor": 5
}
