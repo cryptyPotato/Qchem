{
 "cells": [
  {
   "cell_type": "markdown",
   "id": "00e0b16b-038f-414e-9661-89a7d1e0eb7d",
   "metadata": {
    "tags": []
   },
   "source": [
    "## Libraries"
   ]
  },
  {
   "cell_type": "code",
   "execution_count": null,
   "id": "ee8b5ddc-eb0b-4650-af64-4bc442498314",
   "metadata": {
    "tags": []
   },
   "outputs": [],
   "source": [
    "import numpy as np\n",
    "\n",
    "# importing Qiskit\n",
    "from qiskit import QuantumCircuit, transpile, assemble, Aer, IBMQ,execute, QuantumRegister\n",
    "from qiskit.utils import QuantumInstance\n",
    "from qiskit.providers.ibmq import least_busy\n",
    "from qiskit.tools.monitor import job_monitor\n",
    "from qiskit.visualization import plot_histogram, plot_bloch_multivector\n",
    "from qiskit import BasicAer\n",
    "from qiskit.circuit import Gate\n",
    "from qiskit.extensions import UnitaryGate\n",
    "from math import ceil\n",
    "import matplotlib.pyplot as plt\n",
    "from qiskit.circuit.library import QFT"
   ]
  },
  {
   "cell_type": "code",
   "execution_count": null,
   "id": "64be3637-443b-4ca6-b7c7-c3b4478d9318",
   "metadata": {
    "tags": []
   },
   "outputs": [],
   "source": [
    "backend = BasicAer.get_backend('qasm_simulator')"
   ]
  },
  {
   "cell_type": "code",
   "execution_count": null,
   "id": "a9c0b817-4a1b-4e83-9195-6e36106d99d9",
   "metadata": {
    "tags": []
   },
   "outputs": [],
   "source": [
    "def qft(qfc,m,n):\n",
    "    qfc = qfc.compose(QFT(n-m+1, inverse=False), [x for x in range(m,n+1)])\n",
    "    return qfc\n",
    "def inv_qft(iqfc,m,n):\n",
    "    iqfc = iqfc.compose(QFT(n-m+1, inverse=True), [x for x in range(m,n+1)])\n",
    "    return iqfc\n",
    "def qpe(n,unitary,intial):\n",
    "    qpc = QuantumCircuit(2*n,n)\n",
    "    for i in range(n):\n",
    "        qpc.h(i)\n",
    "    qpc.initialize(initial,qpc.qubits[n:2*n])\n",
    "    \n",
    "    c_unitary = unitary.to_gate().control(1)\n",
    "    \n",
    "    for i in range(n):\n",
    "        for j in range(2**(n-i)):\n",
    "            qpc.append(c_unitary,[i]+[x for x in range(n,2*n)])\n",
    "    \n",
    "    inv_qft(qpc,0,n-1)\n",
    "    \n",
    "    for i in range(n):\n",
    "        qpc.measure(i,i)\n",
    "    return qpc\n",
    "def iqpe(n,unitary,initial,k_precision):\n",
    "    phase = 0\n",
    "    for k in reversed(range(k_precision)):\n",
    "        iqc = QuantumCircuit(n+1,1)\n",
    "        iqc.h(0)\n",
    "        iqc.initialize(initial,iqc.qubits[1:])\n",
    "        #iqc.x(1)\n",
    "        c_unitary = unitary.control(1)\n",
    "        \n",
    "        for order in range(2**k):\n",
    "            iqc.append(c_unitary,iqc.qubits[:])\n",
    " \n",
    "        phase_shift = 2*np.pi*phase*2**k\n",
    "        iqc.p(-phase_shift,0)\n",
    "        iqc.h(0)\n",
    "        iqc.measure(0,0)\n",
    "        \n",
    "        job = execute(iqc, backend, shots=1000)\n",
    "        result = job.result()\n",
    "        counts = result.get_counts()\n",
    "        value = int(max(counts, key=counts.get))\n",
    "        \n",
    "        phase += value / 2 ** (k + 1)\n",
    "        \n",
    "    return phase"
   ]
  },
  {
   "cell_type": "markdown",
   "id": "3635beca-e50a-4298-94ae-78c830741413",
   "metadata": {},
   "source": [
    "### Harmonic Oscillator ground state"
   ]
  },
  {
   "cell_type": "code",
   "execution_count": null,
   "id": "d327570d-c080-4b05-a3e1-67237df68afd",
   "metadata": {
    "tags": []
   },
   "outputs": [],
   "source": [
    "#DEFINE INITIAL WAVEFUNCTION\n",
    "\n",
    "L = 0.5\n",
    "n = 4 #number of qubits\n",
    "x = np.linspace(-L, L, num=2**n) #number of x points\n",
    "\n",
    "wvfunc = np.exp(-50*x**2) #Initial wavefunciton\n",
    "Normalisation_Constant = np.sqrt(np.sum(wvfunc**2)) \n",
    "normalized_wvfunc = wvfunc / Normalisation_Constant ##Normalized initial wavefunction\n",
    "plt.plot(x, normalized_wvfunc,'ro')\n",
    "plt.ylabel('$e^{-50 x^2}$')\n",
    "plt.xlabel('x')\n",
    "plt.title('Ground State Wavefunction')\n",
    "plt.savefig('ho-go-state.png')"
   ]
  },
  {
   "cell_type": "code",
   "execution_count": null,
   "id": "5aaa4d02-a380-40cc-a44f-426be56ea072",
   "metadata": {
    "tags": []
   },
   "outputs": [],
   "source": [
    "#DEFINE PARAMETERS\n",
    "n = 4\n",
    "qubit_num = n #number of qubits\n",
    "qubit_tot = 2**qubit_num #number of possible states\n",
    "t = 0.045 #timestep\n",
    "iteration = 30 #number of iteration\n",
    "dt = t/iteration #time evolution\n",
    "ALPHA = -(2*np.pi*qubit_tot)**2*dt/2\n",
    "BETA  = ALPHA/2\n",
    "0.045/30"
   ]
  },
  {
   "cell_type": "code",
   "execution_count": null,
   "id": "9887be5f-d2c2-4161-b479-77e6cd2d2588",
   "metadata": {
    "tags": []
   },
   "outputs": [],
   "source": [
    "def constant_phase_beta(circuit):\n",
    "    \"\"\"\n",
    "    Add constant phase to the circuit\n",
    "    Args:\n",
    "        circuit, register, number of qubits\n",
    "    \"\"\"\n",
    "    i = 0 + 1j\n",
    "    constant_phase_beta = np.array([[np.exp(i*BETA/4), 0], [0, np.exp(i*BETA/4)]])\n",
    "    cp_gate = UnitaryGate(constant_phase_beta, 'Constant')\n",
    "    circuit.append(cp_gate, [0])\n",
    "    #circuit.barrier()\n",
    "    \n",
    "    return circuit\n",
    "\n",
    "def rotate1_pot(circuit, n):\n",
    "    \"\"\"\n",
    "    Add shift phase gate to the circuit\n",
    "    Args:\n",
    "        circuit, register, number of qubits\n",
    "    \"\"\"\n",
    "    \n",
    "    for m in range(n):\n",
    "        theta = -BETA * 2**(m-n)\n",
    "        circuit.p(theta, m)\n",
    "        \n",
    "    return circuit\n",
    "\n",
    "\n",
    "def rotate2_pot(circuit,n):\n",
    "    \"\"\"\n",
    "    Add constant phase to the circuit\n",
    "    Args:\n",
    "        circuit, register, number of qubits\n",
    "    \"\"\"\n",
    "    \n",
    "    for m in range(n):\n",
    "        theta = BETA * 2**(2*(m-n))\n",
    "        circuit.p(theta, m)\n",
    "        \n",
    "    return circuit\n",
    "\n",
    "def potential(circuit, qubit):\n",
    "    \"\"\"\n",
    "    Define energy potential operator\n",
    "    Args:\n",
    "        circuit, register, number of qubits\n",
    "    Returns:\n",
    "        Add energy potentials to the system\n",
    "    \"\"\"\n",
    "    \n",
    "    constant_phase_beta(circuit)\n",
    "    rotate1_pot(circuit,qubit)\n",
    "    rotate2_pot(circuit,qubit)\n",
    "    \n",
    "    n = np.arange(qubit-1, -1, -1, dtype=float)\n",
    "    \n",
    "    for i in n:\n",
    "        for j in np.arange(i-1, -1, -1, dtype=float):\n",
    "            kin = 2*BETA*2**(j + i - 2*(len(n)))\n",
    "            circuit.cp(kin,int(j), int(i))\n",
    "            \n",
    "    return circuit\n",
    "\n",
    "def constant_phase(circuit):\n",
    "    \"\"\"\n",
    "    Add constant phase to the circuit\n",
    "    Args:\n",
    "        circuit, register, number of qubits\n",
    "    \"\"\"\n",
    "    i = 0 + 1j\n",
    "    constant_phase = np.array([[np.exp(i*ALPHA/4), 0], [0, np.exp(i*ALPHA/4)]])\n",
    "    cp_gate = UnitaryGate(constant_phase, 'Constant')\n",
    "    circuit.append(cp_gate, [0])\n",
    "    #circuit.barrier()\n",
    "    \n",
    "    return circuit\n",
    "\n",
    "def rotate1(circuit, n):\n",
    "    \"\"\"\n",
    "    Add shift phase gate to the circuit\n",
    "    Args:\n",
    "        circuit, register, number of qubits\n",
    "    \"\"\"\n",
    "    \n",
    "    for m in range(n):\n",
    "        theta = -ALPHA * 2**(m-n)\n",
    "        circuit.p(theta, m)\n",
    "        \n",
    "    return circuit\n",
    "\n",
    "\n",
    "def rotate2(circuit,n):\n",
    "    \"\"\"\n",
    "    Add constant phase to the circuit\n",
    "    Args:\n",
    "        circuit, register, number of qubits\n",
    "    \"\"\"\n",
    "    \n",
    "    for m in range(n):\n",
    "        theta = ALPHA * 2**(2*(m-n))\n",
    "        circuit.p(theta, m)\n",
    "        \n",
    "    return circuit\n",
    "\n",
    "def kinetic(circuit, qubit):\n",
    "    \"\"\"\n",
    "    Define energy kinetic operator\n",
    "    Args:\n",
    "        circuit, register, number of qubits\n",
    "    Returns:\n",
    "        Add energy kinetics to the system\n",
    "    \"\"\"\n",
    "    \n",
    "    constant_phase(circuit)\n",
    "    rotate1(circuit,qubit)\n",
    "    rotate2(circuit,qubit)\n",
    "    \n",
    "    n = np.arange(qubit-1, -1, -1, dtype=float)\n",
    "    \n",
    "    for i in n:\n",
    "        for j in np.arange(i-1, -1, -1, dtype=float):\n",
    "            kin = 2*ALPHA*2**(j + i - 2*(len(n)))\n",
    "            circuit.cp(kin,int(j), int(i))\n",
    "            \n",
    "    return circuit\n",
    "\n"
   ]
  },
  {
   "cell_type": "code",
   "execution_count": null,
   "id": "bdf1f707-d8f1-4fc9-b689-b2b5ea501d0e",
   "metadata": {
    "tags": []
   },
   "outputs": [],
   "source": [
    "\n",
    "def te(unitary):\n",
    "    for i in range(iteration):\n",
    "        potential(unitary,4)\n",
    "        #unitary.barrier()\n",
    "        unitary = qft(unitary,0,3)\n",
    "        #unitary.barrier()\n",
    "        kinetic(unitary,4)\n",
    "        #unitary.barrier()\n",
    "        unitary = inv_qft(unitary,0,3)\n",
    "        #unitary.barrier()\n",
    "        potential(unitary,4)\n",
    "        #unitary.barrier()\n",
    "    return unitary\n",
    "c = QuantumCircuit(4)\n",
    "unitary = te(c).to_gate()"
   ]
  },
  {
   "cell_type": "code",
   "execution_count": null,
   "id": "54ef180a-983a-4e48-a6e7-ade3c41fb8ef",
   "metadata": {
    "tags": []
   },
   "outputs": [],
   "source": [
    "\n",
    "theta = iqpe(4,unitary,normalized_wvfunc,5)"
   ]
  },
  {
   "cell_type": "code",
   "execution_count": null,
   "id": "58e3b457-8d89-4327-b197-ff695d00bfea",
   "metadata": {
    "tags": []
   },
   "outputs": [],
   "source": [
    "E = (theta)*2*np.pi/0.045\n",
    "print(f'Energy is {E}')\n",
    "theta"
   ]
  },
  {
   "cell_type": "code",
   "execution_count": null,
   "id": "763216c8-aa12-4293-a3d0-2f6cc4cda41f",
   "metadata": {
    "tags": []
   },
   "outputs": [],
   "source": [
    "def aipe(n,unitary,initial):\n",
    "    phase = 0\n",
    "    iqc = QuantumCircuit(n+1,1)\n",
    "    iqc.h(0)\n",
    "    iqc.initialize(initial,iqc.qubits[1:])\n",
    "    #iqc.x(1)\n",
    "    c_unitary = unitary.control(1)\n",
    "\n",
    "\n",
    "    iqc.append(c_unitary,iqc.qubits[:])\n",
    "\n",
    "    phase_shift = 2*np.pi*phase\n",
    "    iqc.p(-phase_shift,0)\n",
    "    iqc.h(0)\n",
    "    iqc.measure(0,0)\n",
    "\n",
    "    job = execute(iqc, backend, shots=1000)\n",
    "    result = job.result()\n",
    "    counts = result.get_counts()\n",
    "    ans1 = np.arccos(counts['0']/(counts['0']+counts['1']))\n",
    "    iqc = QuantumCircuit(n+1,1)\n",
    "    iqc.h(0)\n",
    "    iqc.initialize(initial,iqc.qubits[1:])\n",
    "    iqc.s(0)\n",
    "    c_unitary = unitary.control(1)\n",
    "\n",
    "\n",
    "    iqc.append(c_unitary,iqc.qubits[:])\n",
    "\n",
    "    phase_shift = 2*np.pi*phase\n",
    "    iqc.p(-phase_shift,0)\n",
    "    iqc.h(0)\n",
    "    iqc.measure(0,0)\n",
    "\n",
    "    job = execute(iqc, backend, shots=1000)\n",
    "    result = job.result()\n",
    "    counts = result.get_counts()\n",
    "    ans2 = np.arcsin(counts['1']/(counts['0']+counts['1']))\n",
    "    return (ans1+ans2)/2"
   ]
  },
  {
   "cell_type": "code",
   "execution_count": null,
   "id": "088b7883-168a-4dbf-9725-7e8e1ef2a5f0",
   "metadata": {
    "tags": []
   },
   "outputs": [],
   "source": [
    "e = []\n",
    "for i in range(20):    \n",
    "    theta = aipe(4,unitary,normalized_wvfunc)\n",
    "    Energy =  2*np.pi*theta/0.06\n",
    "    e = e+[Energy]"
   ]
  },
  {
   "cell_type": "code",
   "execution_count": null,
   "id": "1d60f9d8-5b9e-4423-a7e7-dc2073370b8e",
   "metadata": {
    "tags": []
   },
   "outputs": [],
   "source": [
    "en = np.array(e)\n",
    "energy = np.mean(en)\n",
    "energy"
   ]
  },
  {
   "cell_type": "code",
   "execution_count": null,
   "id": "00c3bcb7-632f-4673-a5d5-df84fbf77317",
   "metadata": {},
   "outputs": [],
   "source": [
    "max(e)"
   ]
  },
  {
   "cell_type": "code",
   "execution_count": null,
   "id": "f87162e1-20bb-471b-9175-4d67af6aa040",
   "metadata": {
    "tags": []
   },
   "outputs": [],
   "source": [
    "def qpe(n,unitary,initial):\n",
    "    qpc = QuantumCircuit(2*n,n)\n",
    "    for i in range(n):\n",
    "        qpc.h(i)\n",
    "    qpc.initialize(initial,qpc.qubits[n:2*n])\n",
    "    \n",
    "    c_unitary = unitary.control(1)\n",
    "    \n",
    "    for i in range(n):\n",
    "        for j in range(2**(n-i)):\n",
    "            qpc.append(c_unitary,[i]+[x for x in range(n,2*n)])\n",
    "    \n",
    "    inv_qft(qpc,0,n-1)\n",
    "    \n",
    "    for i in range(n):\n",
    "        qpc.measure(i,i)\n",
    "    return qpc"
   ]
  },
  {
   "cell_type": "code",
   "execution_count": null,
   "id": "ea1d890e-d615-4cf3-b3e0-169b71ff4350",
   "metadata": {
    "tags": []
   },
   "outputs": [],
   "source": [
    "circ = qpe(4,unitary,normalized_wvfunc)"
   ]
  },
  {
   "cell_type": "code",
   "execution_count": null,
   "id": "ef792521-efc7-4408-b08c-84044615ab66",
   "metadata": {
    "tags": []
   },
   "outputs": [],
   "source": [
    "job = execute(circ, backend, shots=1000)\n",
    "result = job.result()\n",
    "counts = result.get_counts()"
   ]
  },
  {
   "cell_type": "code",
   "execution_count": null,
   "id": "01cf04d0-3e9d-4f80-af1b-629842045a4a",
   "metadata": {
    "tags": []
   },
   "outputs": [],
   "source": [
    "counts"
   ]
  },
  {
   "cell_type": "code",
   "execution_count": null,
   "id": "7a65a4b2-230d-4fde-916a-f9ea34bc263a",
   "metadata": {
    "tags": []
   },
   "outputs": [],
   "source": [
    "a = list(counts.keys())\n",
    "b = [counts[i] for i in a]\n",
    "a = ['0b'+i for i in a]\n"
   ]
  },
  {
   "cell_type": "code",
   "execution_count": null,
   "id": "42d89163-0ef3-4606-8e49-7453f4b4dd40",
   "metadata": {
    "tags": []
   },
   "outputs": [],
   "source": [
    "ans = 0\n",
    "for i in range(len(a)):\n",
    "    ans += int(a[i],2)*b[i]\n",
    "    "
   ]
  },
  {
   "cell_type": "code",
   "execution_count": null,
   "id": "836d92fe-87a1-4409-a825-a8dbda5961b1",
   "metadata": {
    "tags": []
   },
   "outputs": [],
   "source": [
    "potent = QuantumCircuit(4)\n",
    "potential(potent,4)\n",
    "potent.draw('mpl').savefig('HO-potential.png')\n",
    "\n",
    "kine = QuantumCircuit(4)\n",
    "kinetic(kine,4)\n",
    "kine.draw('mpl').savefig('HO-kinetic.png')"
   ]
  },
  {
   "cell_type": "code",
   "execution_count": null,
   "id": "76dbc5d0-a595-458a-bffc-2cfea92e1f72",
   "metadata": {},
   "outputs": [],
   "source": [
    "2*np.pi*ans/450"
   ]
  },
  {
   "cell_type": "code",
   "execution_count": null,
   "id": "b713a716-8bd4-4469-874a-65123324bb5c",
   "metadata": {},
   "outputs": [],
   "source": []
  }
 ],
 "metadata": {
  "kernelspec": {
   "display_name": "Python 3 (ipykernel)",
   "language": "python",
   "name": "python3"
  },
  "language_info": {
   "codemirror_mode": {
    "name": "ipython",
    "version": 3
   },
   "file_extension": ".py",
   "mimetype": "text/x-python",
   "name": "python",
   "nbconvert_exporter": "python",
   "pygments_lexer": "ipython3",
   "version": "3.11.2"
  }
 },
 "nbformat": 4,
 "nbformat_minor": 5
}
