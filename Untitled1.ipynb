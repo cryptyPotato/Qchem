{
 "cells": [
  {
   "cell_type": "code",
   "execution_count": 1,
   "id": "9d52f3b2-2faf-44e5-8341-ddea7ece0854",
   "metadata": {},
   "outputs": [],
   "source": [
    "import numpy as np"
   ]
  },
  {
   "cell_type": "code",
   "execution_count": 10,
   "id": "44f6d904-6416-4003-98e3-1969cf7c5355",
   "metadata": {},
   "outputs": [],
   "source": [
    "x_d = np.diag([-8]+[7-i for i in range(8)]+[i for i in range(8)])"
   ]
  },
  {
   "cell_type": "code",
   "execution_count": 12,
   "id": "2b216481-426e-47e1-953e-501e79d16b4d",
   "metadata": {},
   "outputs": [],
   "source": [
    "x_d_2 = np.matmul(x_d,x_d)"
   ]
  },
  {
   "cell_type": "code",
   "execution_count": 15,
   "id": "58e700ff-1cb4-4b45-ab46-c778075cd787",
   "metadata": {},
   "outputs": [
    {
     "ename": "SyntaxError",
     "evalue": "invalid syntax (734930121.py, line 1)",
     "output_type": "error",
     "traceback": [
      "\u001b[0;36m  Input \u001b[0;32mIn [15]\u001b[0;36m\u001b[0m\n\u001b[0;31m    np.pi*x_d_2/64 // matrix form\u001b[0m\n\u001b[0m                             ^\u001b[0m\n\u001b[0;31mSyntaxError\u001b[0m\u001b[0;31m:\u001b[0m invalid syntax\n"
     ]
    }
   ],
   "source": [
    "np.pi*x_d_2/64 "
   ]
  },
  {
   "cell_type": "code",
   "execution_count": null,
   "id": "4bad9d45-28d1-4424-9dd5-89581bbea46f",
   "metadata": {},
   "outputs": [],
   "source": []
  }
 ],
 "metadata": {
  "kernelspec": {
   "display_name": "Python 3 (ipykernel)",
   "language": "python",
   "name": "python3"
  },
  "language_info": {
   "codemirror_mode": {
    "name": "ipython",
    "version": 3
   },
   "file_extension": ".py",
   "mimetype": "text/x-python",
   "name": "python",
   "nbconvert_exporter": "python",
   "pygments_lexer": "ipython3",
   "version": "3.10.4"
  }
 },
 "nbformat": 4,
 "nbformat_minor": 5
}
