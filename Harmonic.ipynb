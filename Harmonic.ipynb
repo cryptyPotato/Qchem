{
 "cells": [
  {
   "cell_type": "markdown",
   "id": "00e0b16b-038f-414e-9661-89a7d1e0eb7d",
   "metadata": {
    "tags": []
   },
   "source": [
    "## Libraries"
   ]
  },
  {
   "cell_type": "code",
   "execution_count": 8,
   "id": "ee8b5ddc-eb0b-4650-af64-4bc442498314",
   "metadata": {
    "tags": []
   },
   "outputs": [],
   "source": [
    "import numpy as np\n",
    "\n",
    "# importing Qiskit\n",
    "from qiskit import QuantumCircuit, transpile, assemble, Aer, IBMQ,execute, QuantumRegister\n",
    "from qiskit.utils import QuantumInstance\n",
    "from qiskit.providers.ibmq import least_busy\n",
    "from qiskit.tools.monitor import job_monitor\n",
    "from qiskit.visualization import plot_histogram, plot_bloch_multivector\n",
    "from qiskit import BasicAer\n",
    "from qiskit.circuit import Gate\n",
    "from qiskit.extensions import UnitaryGate\n",
    "from math import ceil\n",
    "import matplotlib.pyplot as plt"
   ]
  },
  {
   "cell_type": "code",
   "execution_count": 9,
   "id": "64be3637-443b-4ca6-b7c7-c3b4478d9318",
   "metadata": {},
   "outputs": [],
   "source": [
    "backend = BasicAer.get_backend('qasm_simulator')"
   ]
  },
  {
   "cell_type": "code",
   "execution_count": 10,
   "id": "a9c0b817-4a1b-4e83-9195-6e36106d99d9",
   "metadata": {},
   "outputs": [],
   "source": [
    "def qft(qfc,m,n):\n",
    "    i = n\n",
    "    while i >= m :\n",
    "        qfc.h(i)\n",
    "        for j in range(m,i):\n",
    "            qfc.cp(2*np.pi*1/(2**(i-j+1)),i,j)\n",
    "        i-=1\n",
    "    for k in range(m,(n+1+m)//2):\n",
    "        qfc.swap(k,n+m-k)\n",
    "    #qfc.barrier()\n",
    "    return qfc\n",
    "\n",
    "def inv_qft(iqfc,m,n):\n",
    "    qf = qft(QuantumCircuit(n-m+1),m,n)\n",
    "    iqf = qf.inverse()\n",
    "    iqfc.compose(iqf,iqfc.qubits[m:n+1])\n",
    "    return iqfc\n",
    "\n",
    "def qpe(n,unitary,intial):\n",
    "    qpc = QuantumCircuit(2*n,n)\n",
    "    for i in range(n):\n",
    "        qpc.h(i)\n",
    "    qpc.initialize(initial,qpc.qubits[n:2*n])\n",
    "    \n",
    "    c_unitary = unitary.to_gate().control(1)\n",
    "    \n",
    "    for i in range(n):\n",
    "        for j in range(2**(n-i)):\n",
    "            qpc.append(c_unitary,[i]+[x for x in range(n,2*n)])\n",
    "    \n",
    "    inv_qft(qpc,0,n-1)\n",
    "    \n",
    "    for i in range(n):\n",
    "        qpc.measure(i,i)\n",
    "    return qpc\n",
    "def iqpe(n,unitary,initial,k_precision):\n",
    "    phase = 0\n",
    "    for k in reversed(range(k_precision)):\n",
    "        iqc = QuantumCircuit(n+1,1)\n",
    "        iqc.h(0)\n",
    "        iqc.initialize(initial,iqc.qubits[1:])\n",
    "        #iqc.x(1)\n",
    "        c_unitary = unitary.control(1)\n",
    "        \n",
    "        for order in range(2**k):\n",
    "            iqc.append(c_unitary,iqc.qubits[:])\n",
    " \n",
    "        phase_shift = 2*np.pi*phase*2**k\n",
    "        iqc.p(-phase_shift,0)\n",
    "        iqc.h(0)\n",
    "        iqc.measure(0,0)\n",
    "        \n",
    "        job = execute(iqc, backend, shots=1000)\n",
    "        result = job.result()\n",
    "        counts = result.get_counts()\n",
    "        value = int(max(counts, key=counts.get))\n",
    "        \n",
    "        phase += value / 2 ** (k + 1)\n",
    "        \n",
    "    return phase"
   ]
  },
  {
   "cell_type": "markdown",
   "id": "3635beca-e50a-4298-94ae-78c830741413",
   "metadata": {},
   "source": [
    "### Harmonic Oscillator ground state"
   ]
  },
  {
   "cell_type": "code",
   "execution_count": 11,
   "id": "d327570d-c080-4b05-a3e1-67237df68afd",
   "metadata": {},
   "outputs": [
    {
     "data": {
      "image/png": "[encoded data removed]",
      "text/plain": [
       "<Figure size 432x288 with 1 Axes>"
      ]
     },
     "metadata": {
      "needs_background": "light"
     },
     "output_type": "display_data"
    }
   ],
   "source": [
    "#DEFINE INITIAL WAVEFUNCTION\n",
    "\n",
    "L = 0.5\n",
    "n = 4 #number of qubits\n",
    "x = np.linspace(-L, L, num=2**n) #number of x points\n",
    "\n",
    "wvfunc = np.exp(-50*x**2) #Initial wavefunciton\n",
    "Normalisation_Constant = np.sqrt(np.sum(wvfunc**2)) \n",
    "normalized_wvfunc = wvfunc / Normalisation_Constant ##Normalized initial wavefunction\n",
    "plt.plot(x, normalized_wvfunc,'ro')\n",
    "plt.ylabel('$e^{-50 x^2}$')\n",
    "plt.xlabel('x')\n",
    "plt.title('Ground State Wavefunction')\n",
    "plt.savefig('ho-go-state.png')"
   ]
  },
  {
   "cell_type": "code",
   "execution_count": 12,
   "id": "5aaa4d02-a380-40cc-a44f-426be56ea072",
   "metadata": {},
   "outputs": [
    {
     "data": {
      "text/plain": [
       "0.0015"
      ]
     },
     "execution_count": 12,
     "metadata": {},
     "output_type": "execute_result"
    }
   ],
   "source": [
    "#DEFINE PARAMETERS\n",
    "n = 4\n",
    "qubit_num = n #number of qubits\n",
    "qubit_tot = 2**qubit_num #number of possible states\n",
    "t = 0.045 #timestep\n",
    "iteration = 30 #number of iteration\n",
    "dt = t/iteration #time evolution\n",
    "ALPHA = -(2*np.pi*qubit_tot)**2*dt\n",
    "BETA  = ALPHA/2\n",
    "0.045/30"
   ]
  },
  {
   "cell_type": "code",
   "execution_count": 13,
   "id": "9887be5f-d2c2-4161-b479-77e6cd2d2588",
   "metadata": {},
   "outputs": [],
   "source": [
    "def constant_phase_beta(circuit):\n",
    "    \"\"\"\n",
    "    Add constant phase to the circuit\n",
    "    Args:\n",
    "        circuit, register, number of qubits\n",
    "    \"\"\"\n",
    "    i = 0 + 1j\n",
    "    constant_phase_beta = np.array([[np.exp(i*BETA/4), 0], [0, np.exp(i*BETA/4)]])\n",
    "    cp_gate = UnitaryGate(constant_phase_beta, 'Constant')\n",
    "    circuit.append(cp_gate, [0])\n",
    "    #circuit.barrier()\n",
    "    \n",
    "    return circuit\n",
    "\n",
    "def rotate1_pot(circuit, n):\n",
    "    \"\"\"\n",
    "    Add shift phase gate to the circuit\n",
    "    Args:\n",
    "        circuit, register, number of qubits\n",
    "    \"\"\"\n",
    "    \n",
    "    for m in range(n):\n",
    "        theta = -BETA * 2**(m-n)\n",
    "        circuit.p(theta, m)\n",
    "        \n",
    "    return circuit\n",
    "\n",
    "\n",
    "def rotate2_pot(circuit,n):\n",
    "    \"\"\"\n",
    "    Add constant phase to the circuit\n",
    "    Args:\n",
    "        circuit, register, number of qubits\n",
    "    \"\"\"\n",
    "    \n",
    "    for m in range(n):\n",
    "        theta = BETA * 2**(2*(m-n))\n",
    "        circuit.p(theta, m)\n",
    "        \n",
    "    return circuit\n",
    "\n",
    "def potential(circuit, qubit):\n",
    "    \"\"\"\n",
    "    Define energy potential operator\n",
    "    Args:\n",
    "        circuit, register, number of qubits\n",
    "    Returns:\n",
    "        Add energy potentials to the system\n",
    "    \"\"\"\n",
    "    \n",
    "    constant_phase_beta(circuit)\n",
    "    rotate1_pot(circuit,qubit)\n",
    "    rotate2_pot(circuit,qubit)\n",
    "    \n",
    "    n = np.arange(qubit-1, -1, -1, dtype=float)\n",
    "    \n",
    "    for i in n:\n",
    "        for j in np.arange(i-1, -1, -1, dtype=float):\n",
    "            kin = 2*BETA*2**(j + i - 2*(len(n)))\n",
    "            circuit.cp(kin,int(j), int(i))\n",
    "            \n",
    "    return circuit\n",
    "\n",
    "def constant_phase(circuit):\n",
    "    \"\"\"\n",
    "    Add constant phase to the circuit\n",
    "    Args:\n",
    "        circuit, register, number of qubits\n",
    "    \"\"\"\n",
    "    i = 0 + 1j\n",
    "    constant_phase = np.array([[np.exp(i*ALPHA/4), 0], [0, np.exp(i*ALPHA/4)]])\n",
    "    cp_gate = UnitaryGate(constant_phase, 'Constant')\n",
    "    circuit.append(cp_gate, [0])\n",
    "    #circuit.barrier()\n",
    "    \n",
    "    return circuit\n",
    "\n",
    "def rotate1(circuit, n):\n",
    "    \"\"\"\n",
    "    Add shift phase gate to the circuit\n",
    "    Args:\n",
    "        circuit, register, number of qubits\n",
    "    \"\"\"\n",
    "    \n",
    "    for m in range(n):\n",
    "        theta = -ALPHA * 2**(m-n)\n",
    "        circuit.p(theta, m)\n",
    "        \n",
    "    return circuit\n",
    "\n",
    "\n",
    "def rotate2(circuit,n):\n",
    "    \"\"\"\n",
    "    Add constant phase to the circuit\n",
    "    Args:\n",
    "        circuit, register, number of qubits\n",
    "    \"\"\"\n",
    "    \n",
    "    for m in range(n):\n",
    "        theta = ALPHA * 2**(2*(m-n))\n",
    "        circuit.p(theta, m)\n",
    "        \n",
    "    return circuit\n",
    "\n",
    "def kinetic(circuit, qubit):\n",
    "    \"\"\"\n",
    "    Define energy kinetic operator\n",
    "    Args:\n",
    "        circuit, register, number of qubits\n",
    "    Returns:\n",
    "        Add energy kinetics to the system\n",
    "    \"\"\"\n",
    "    \n",
    "    constant_phase(circuit)\n",
    "    rotate1(circuit,qubit)\n",
    "    rotate2(circuit,qubit)\n",
    "    \n",
    "    n = np.arange(qubit-1, -1, -1, dtype=float)\n",
    "    \n",
    "    for i in n:\n",
    "        for j in np.arange(i-1, -1, -1, dtype=float):\n",
    "            kin = 2*ALPHA*2**(j + i - 2*(len(n)))\n",
    "            circuit.cp(kin,int(j), int(i))\n",
    "            \n",
    "    return circuit\n",
    "\n"
   ]
  },
  {
   "cell_type": "code",
   "execution_count": 14,
   "id": "bdf1f707-d8f1-4fc9-b689-b2b5ea501d0e",
   "metadata": {
    "tags": []
   },
   "outputs": [],
   "source": [
    "def time_evolution(circuit,qubit_num):\n",
    "    for i in range(iteration):\n",
    "        #POTENTIAL\n",
    "        potential(circuit,  qubit_num)\n",
    "        #circuit.barrier()\n",
    "\n",
    "        #QFT\n",
    "        qft(circuit,0,qubit_num-1)\n",
    "        #circuit.barrier()\n",
    "\n",
    "        #KINETIC\n",
    "        kinetic(circuit, qubit_num)\n",
    "        #circuit.barrier()\n",
    "\n",
    "        #INVERS QFT\n",
    "        circuit = inv_qft(circuit,0,qubit_num-1)\n",
    "        #circuit.barrier()\n",
    "\n",
    "\n",
    "        #POTENTIAL\n",
    "        potential(circuit,qubit_num)\n",
    "        #circuit.barrier()\n",
    "    return circuit\n",
    "\n",
    "\n",
    "unitary = QuantumCircuit(4)\n",
    "c_unitary = time_evolution(unitary,4).to_gate(label=\"Unitary\").control(1)"
   ]
  },
  {
   "cell_type": "code",
   "execution_count": 8,
   "id": "54ef180a-983a-4e48-a6e7-ade3c41fb8ef",
   "metadata": {
    "jupyter": {
     "source_hidden": true
    },
    "tags": []
   },
   "outputs": [],
   "source": [
    "theta = iqpe(4,unitary,normalized_wvfunc,5)"
   ]
  },
  {
   "cell_type": "code",
   "execution_count": 23,
   "id": "58e3b457-8d89-4327-b197-ff695d00bfea",
   "metadata": {
    "tags": []
   },
   "outputs": [
    {
     "name": "stdout",
     "output_type": "stream",
     "text": [
      "Energy is 56.72320068981572\n"
     ]
    },
    {
     "data": {
      "text/plain": [
       "0.40625"
      ]
     },
     "execution_count": 23,
     "metadata": {},
     "output_type": "execute_result"
    }
   ],
   "source": [
    "E = (theta)*2*np.pi/0.045\n",
    "print(f'Energy is {E}')\n",
    "theta"
   ]
  },
  {
   "cell_type": "code",
   "execution_count": 6,
   "id": "6676b845-4389-486d-ae24-f52e0854c1ff",
   "metadata": {
    "tags": []
   },
   "outputs": [],
   "source": [
    "def time_evolution_2(circuit2,qubit_num):\n",
    "    for i in range(iteration):\n",
    "        #POTENTIAL\n",
    "        potential(circuit2,qubit_num)\n",
    "        #circuit2.barrier()\n",
    "\n",
    "        #QFT\n",
    "        qft(circuit2,0, qubit_num-1)\n",
    "        #circuit2.barrier()\n",
    "\n",
    "        #KINETIC\n",
    "        kinetic(circuit2,qubit_num)\n",
    "        #circuit2.barrier()\n",
    "\n",
    "        #INVERS QFT\n",
    "        circuit2 = inv_qft(circuit2,0, qubit_num-1)\n",
    "        #circuit2.barrier()\n",
    "\n",
    "\n",
    "        #POTENTIAL\n",
    "        potential(circuit2,  qubit_num)\n",
    "        #circuit2.barrier()\n",
    "\n",
    "        # QFT\n",
    "        qft(circuit2,0,qubit_num-1)\n",
    "        #circuit2.barrier()\n",
    "\n",
    "        #KINETIC\n",
    "        kinetic(circuit2, qubit_num)\n",
    "        #circuit2.barrier()\n",
    "\n",
    "        #INVERS QFT\n",
    "        circuit2 = inv_qft(circuit2,0, qubit_num-1)\n",
    "        #circuit2.barrier()\n",
    "\n",
    "\n",
    "unitary2 = QuantumCircuit(4)\n"
   ]
  },
  {
   "cell_type": "code",
   "execution_count": 15,
   "id": "82f7d1de-6024-4628-94af-539f9bd5a404",
   "metadata": {},
   "outputs": [
    {
     "data": {
      "text/plain": [
       "Instruction(name='circuit-210', num_qubits=4, num_clbits=0, params=[])"
      ]
     },
     "execution_count": 15,
     "metadata": {},
     "output_type": "execute_result"
    }
   ],
   "source": [
    "unitary2.to_gate()"
   ]
  },
  {
   "cell_type": "code",
   "execution_count": 19,
   "id": "3248e2eb-e431-4671-8e1b-2ddc06c9cfff",
   "metadata": {
    "tags": []
   },
   "outputs": [],
   "source": [
    "theta = iqpe(4,unitary2,normalized_wvfunc,5)"
   ]
  },
  {
   "cell_type": "code",
   "execution_count": 24,
   "id": "b8770b0f-3f67-4746-aceb-d26c1b0c94ba",
   "metadata": {},
   "outputs": [
    {
     "name": "stdout",
     "output_type": "stream",
     "text": [
      "Energy is 56.72320068981572\n"
     ]
    },
    {
     "data": {
      "text/plain": [
       "0.40625"
      ]
     },
     "execution_count": 24,
     "metadata": {},
     "output_type": "execute_result"
    }
   ],
   "source": [
    "E = (theta)*2*np.pi/0.045\n",
    "print(f'Energy is {E}')\n",
    "theta"
   ]
  },
  {
   "cell_type": "code",
   "execution_count": 15,
   "id": "836d92fe-87a1-4409-a825-a8dbda5961b1",
   "metadata": {},
   "outputs": [],
   "source": [
    "potent = QuantumCircuit(4)\n",
    "potential(potent,4)\n",
    "potent.draw('mpl').savefig('HO-potential.png')\n",
    "\n",
    "kine = QuantumCircuit(4)\n",
    "kinetic(kine,4)\n",
    "kine.draw('mpl').savefig('HO-kinetic.png')"
   ]
  },
  {
   "cell_type": "code",
   "execution_count": null,
   "id": "cf7bf6ef-004d-4c42-bf71-6b1330a62912",
   "metadata": {},
   "outputs": [],
   "source": []
  }
 ],
 "metadata": {
  "kernelspec": {
   "display_name": "Python 3 (ipykernel)",
   "language": "python",
   "name": "python3"
  },
  "language_info": {
   "codemirror_mode": {
    "name": "ipython",
    "version": 3
   },
   "file_extension": ".py",
   "mimetype": "text/x-python",
   "name": "python",
   "nbconvert_exporter": "python",
   "pygments_lexer": "ipython3",
   "version": "3.10.4"
  }
 },
 "nbformat": 4,
 "nbformat_minor": 5
}
