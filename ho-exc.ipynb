{
 "cells": [
  {
   "cell_type": "markdown",
   "id": "9d3b9f1b-aa61-4dc6-81dc-1938e0bd7776",
   "metadata": {},
   "source": [
    "## Harmonic Oscillator"
   ]
  },
  {
   "cell_type": "code",
   "execution_count": null,
   "id": "32beb4e6-6761-4104-9f5d-9dc09cab00fd",
   "metadata": {
    "tags": []
   },
   "outputs": [],
   "source": [
    "import numpy as np\n",
    "\n",
    "# importing Qiskit\n",
    "from qiskit import QuantumCircuit, transpile, assemble, Aer, IBMQ,execute, QuantumRegister\n",
    "from qiskit.utils import QuantumInstance\n",
    "from qiskit.providers.ibmq import least_busy\n",
    "from qiskit.tools.monitor import job_monitor\n",
    "from qiskit.visualization import plot_histogram, plot_bloch_multivector\n",
    "from qiskit import BasicAer\n",
    "from qiskit.circuit import Gate\n",
    "from qiskit.extensions import UnitaryGate\n",
    "from math import ceil\n",
    "import matplotlib.pyplot as plt\n",
    "from qiskit.circuit.library import QFT"
   ]
  },
  {
   "cell_type": "code",
   "execution_count": null,
   "id": "3358114e-d303-42a6-a48f-3bae6b3d97cc",
   "metadata": {
    "tags": []
   },
   "outputs": [],
   "source": [
    "backend = BasicAer.get_backend('qasm_simulator')"
   ]
  },
  {
   "cell_type": "code",
   "execution_count": null,
   "id": "3a2288b6-5c7b-43f8-93bc-10f56f53cbc7",
   "metadata": {
    "tags": []
   },
   "outputs": [],
   "source": [
    "def qft(qfc,m,n):\n",
    "    qfc = qfc.compose(QFT(n-m+1, inverse=False), [x for x in range(m,n+1)])\n",
    "    return qfc\n",
    "def inv_qft(iqfc,m,n):\n",
    "    iqfc = iqfc.compose(QFT(n-m+1, inverse=True), [x for x in range(m,n+1)])\n",
    "    return iqfc\n",
    "def qpe(n,unitary,intial):\n",
    "    qpc = QuantumCircuit(2*n,n)\n",
    "    for i in range(n):\n",
    "        qpc.h(i)\n",
    "    qpc.initialize(initial,qpc.qubits[n:2*n])\n",
    "    \n",
    "    c_unitary = unitary.to_gate().control(1)\n",
    "    \n",
    "    for i in range(n):\n",
    "        for j in range(2**(n-i)):\n",
    "            qpc.append(c_unitary,[i]+[x for x in range(n,2*n)])\n",
    "    \n",
    "    inv_qft(qpc,0,n-1)\n",
    "    \n",
    "    for i in range(n):\n",
    "        qpc.measure(i,i)\n",
    "    return qpc\n",
    "def iqpe(n,unitary,initial,k_precision):\n",
    "    phase = 0\n",
    "    for k in reversed(range(k_precision)):\n",
    "        iqc = QuantumCircuit(n+1,1)\n",
    "        iqc.h(0)\n",
    "        iqc.initialize(initial,iqc.qubits[1:])\n",
    "        #iqc.x(1)\n",
    "        c_unitary = unitary.control(1)\n",
    "        \n",
    "        for order in range(2**k):\n",
    "            iqc.append(c_unitary,iqc.qubits[:])\n",
    " \n",
    "        phase_shift = 2*np.pi*phase*2**k\n",
    "        iqc.p(-phase_shift,0)\n",
    "        iqc.h(0)\n",
    "        iqc.measure(0,0)\n",
    "        \n",
    "        job = execute(iqc, backend, shots=1000)\n",
    "        result = job.result()\n",
    "        counts = result.get_counts()\n",
    "        value = int(max(counts, key=counts.get))\n",
    "        \n",
    "        phase += value / 2 ** (k + 1)\n",
    "        \n",
    "    return phase"
   ]
  },
  {
   "cell_type": "code",
   "execution_count": null,
   "id": "e0ddb3b5-24f1-4ead-937e-7b361e22b2cb",
   "metadata": {
    "tags": []
   },
   "outputs": [],
   "source": [
    "#DEFINE INITIAL WAVEFUNCTION\n",
    "\n",
    "L = 0.5\n",
    "n = 4 #number of qubits\n",
    "x = np.linspace(-L, L, num=2**n) #number of x points\n",
    "\n",
    "wvfunc = x*np.exp(-50*x**2) #Initial wavefunciton\n",
    "Normalisation_Constant = np.sqrt(np.sum(wvfunc**2)) \n",
    "normalized_wvfunc = wvfunc / Normalisation_Constant ##Normalized initial wavefunction\n",
    "plt.plot(x, normalized_wvfunc,'ro')\n",
    "plt.ylabel('$x e^{-50 x^2}$')\n",
    "plt.xlabel('x')\n",
    "plt.title('Excited State Wavefunction')\n",
    "plt.savefig('ho-excited-state.png')"
   ]
  },
  {
   "cell_type": "code",
   "execution_count": null,
   "id": "1cfb3c23-257d-4e7b-866e-49d5e753d991",
   "metadata": {
    "tags": []
   },
   "outputs": [],
   "source": [
    "#DEFINE PARAMETERS\n",
    "n = 4\n",
    "qubit_num = n #number of qubits\n",
    "qubit_tot = 2**qubit_num #number of possible states\n",
    "t = 0.03 #timestep\n",
    "iteration = 20 #number of iteration\n",
    "dt = t/iteration #time evolution\n",
    "ALPHA = -(2*np.pi*qubit_tot)**2*dt/2\n",
    "BETA  = ALPHA/2\n"
   ]
  },
  {
   "cell_type": "code",
   "execution_count": null,
   "id": "bb48a81d-b464-4de5-8ed7-083a0f5f8ce3",
   "metadata": {
    "tags": []
   },
   "outputs": [],
   "source": [
    "def constant_phase_beta(circuit):\n",
    "    \"\"\"\n",
    "    Add constant phase to the circuit\n",
    "    Args:\n",
    "        circuit, register, number of qubits\n",
    "    \"\"\"\n",
    "    i = 0 + 1j\n",
    "    constant_phase_beta = np.array([[np.exp(i*BETA/4), 0], [0, np.exp(i*BETA/4)]])\n",
    "    cp_gate = UnitaryGate(constant_phase_beta, 'Constant')\n",
    "    circuit.append(cp_gate, [0])\n",
    "    #circuit.barrier()\n",
    "    \n",
    "    return circuit\n",
    "\n",
    "def rotate1_pot(circuit, n):\n",
    "    \"\"\"\n",
    "    Add shift phase gate to the circuit\n",
    "    Args:\n",
    "        circuit, register, number of qubits\n",
    "    \"\"\"\n",
    "    \n",
    "    for m in range(n):\n",
    "        theta = -BETA * 2**(m-n)\n",
    "        circuit.p(theta, m)\n",
    "        \n",
    "    return circuit\n",
    "\n",
    "\n",
    "def rotate2_pot(circuit,n):\n",
    "    \"\"\"\n",
    "    Add constant phase to the circuit\n",
    "    Args:\n",
    "        circuit, register, number of qubits\n",
    "    \"\"\"\n",
    "    \n",
    "    for m in range(n):\n",
    "        theta = BETA * 2**(2*(m-n))\n",
    "        circuit.p(theta, m)\n",
    "        \n",
    "    return circuit\n",
    "\n",
    "def potential(circuit, qubit):\n",
    "    \"\"\"\n",
    "    Define energy potential operator\n",
    "    Args:\n",
    "        circuit, register, number of qubits\n",
    "    Returns:\n",
    "        Add energy potentials to the system\n",
    "    \"\"\"\n",
    "    \n",
    "    constant_phase_beta(circuit)\n",
    "    rotate1_pot(circuit,qubit)\n",
    "    rotate2_pot(circuit,qubit)\n",
    "    \n",
    "    n = np.arange(qubit-1, -1, -1, dtype=float)\n",
    "    \n",
    "    for i in n:\n",
    "        for j in np.arange(i-1, -1, -1, dtype=float):\n",
    "            kin = 2*BETA*2**(j + i - 2*(len(n)))\n",
    "            circuit.cp(kin,int(j), int(i))\n",
    "            \n",
    "    return circuit\n",
    "\n",
    "def constant_phase(circuit):\n",
    "    \"\"\"\n",
    "    Add constant phase to the circuit\n",
    "    Args:\n",
    "        circuit, register, number of qubits\n",
    "    \"\"\"\n",
    "    i = 0 + 1j\n",
    "    constant_phase = np.array([[np.exp(i*ALPHA/4), 0], [0, np.exp(i*ALPHA/4)]])\n",
    "    cp_gate = UnitaryGate(constant_phase, 'Constant')\n",
    "    circuit.append(cp_gate, [0])\n",
    "    #circuit.barrier()\n",
    "    \n",
    "    return circuit\n",
    "\n",
    "def rotate1(circuit, n):\n",
    "    \"\"\"\n",
    "    Add shift phase gate to the circuit\n",
    "    Args:\n",
    "        circuit, register, number of qubits\n",
    "    \"\"\"\n",
    "    \n",
    "    for m in range(n):\n",
    "        theta = -ALPHA * 2**(m-n)\n",
    "        circuit.p(theta, m)\n",
    "        \n",
    "    return circuit\n",
    "\n",
    "\n",
    "def rotate2(circuit,n):\n",
    "    \"\"\"\n",
    "    Add constant phase to the circuit\n",
    "    Args:\n",
    "        circuit, register, number of qubits\n",
    "    \"\"\"\n",
    "    \n",
    "    for m in range(n):\n",
    "        theta = ALPHA * 2**(2*(m-n))\n",
    "        circuit.p(theta, m)\n",
    "        \n",
    "    return circuit\n",
    "\n",
    "def kinetic(circuit, qubit):\n",
    "    \"\"\"\n",
    "    Define energy kinetic operator\n",
    "    Args:\n",
    "        circuit, register, number of qubits\n",
    "    Returns:\n",
    "        Add energy kinetics to the system\n",
    "    \"\"\"\n",
    "    \n",
    "    constant_phase(circuit)\n",
    "    rotate1(circuit,qubit)\n",
    "    rotate2(circuit,qubit)\n",
    "    \n",
    "    n = np.arange(qubit-1, -1, -1, dtype=float)\n",
    "    \n",
    "    for i in n:\n",
    "        for j in np.arange(i-1, -1, -1, dtype=float):\n",
    "            kin = 2*ALPHA*2**(j + i - 2*(len(n)))\n",
    "            circuit.cp(kin,int(j), int(i))\n",
    "            \n",
    "    return circuit\n",
    "\n"
   ]
  },
  {
   "cell_type": "code",
   "execution_count": null,
   "id": "3a957702-d04c-44a0-ba91-4bcb165a5c5a",
   "metadata": {
    "tags": []
   },
   "outputs": [],
   "source": [
    "\n",
    "def te(unitary):\n",
    "    for i in range(iteration):\n",
    "        potential(unitary,4)\n",
    "        #unitary.barrier()\n",
    "        unitary = inv_qft(unitary,0,3)\n",
    "        #unitary.barrier()\n",
    "        kinetic(unitary,4)\n",
    "        #unitary.barrier()\n",
    "        unitary = qft(unitary,0,3)\n",
    "        #unitary.barrier()\n",
    "        potential(unitary,4)\n",
    "        #unitary.barrier()\n",
    "    return unitary\n",
    "c = QuantumCircuit(4)\n",
    "unitary = te(c).to_gate()"
   ]
  },
  {
   "cell_type": "code",
   "execution_count": null,
   "id": "43cf10fc-4ff0-4f64-8e27-75454e0286b9",
   "metadata": {
    "tags": []
   },
   "outputs": [],
   "source": [
    "theta = iqpe(4,unitary,normalized_wvfunc,5)"
   ]
  },
  {
   "cell_type": "code",
   "execution_count": null,
   "id": "c3aeb742-fe77-4078-beca-1c789ac0dddf",
   "metadata": {
    "tags": []
   },
   "outputs": [],
   "source": [
    "E = 2*np.pi/0.03 - (theta)*2*np.pi/0.03 \n",
    "print(f'Energy is {E}')\n",
    "theta"
   ]
  },
  {
   "cell_type": "code",
   "execution_count": null,
   "id": "a42ef7ce-f50c-4c99-8233-a640a3c77fde",
   "metadata": {
    "tags": []
   },
   "outputs": [],
   "source": [
    "def aipe(n,unitary,initial):\n",
    "    phase = 0\n",
    "    iqc = QuantumCircuit(n+1,1)\n",
    "    iqc.h(0)\n",
    "    iqc.initialize(initial,iqc.qubits[1:])\n",
    "    #iqc.x(1)\n",
    "    c_unitary = unitary.control(1)\n",
    "\n",
    "\n",
    "    iqc.append(c_unitary,iqc.qubits[:])\n",
    "\n",
    "    phase_shift = 2*np.pi*phase\n",
    "    iqc.p(-phase_shift,0)\n",
    "    iqc.h(0)\n",
    "    iqc.measure(0,0)\n",
    "\n",
    "    job = execute(iqc, backend, shots=1000)\n",
    "    result = job.result()\n",
    "    counts = result.get_counts()\n",
    "    ans1 = np.arccos(counts['0']/(counts['0']+counts['1']))\n",
    "    iqc = QuantumCircuit(n+1,1)\n",
    "    iqc.h(0)\n",
    "    iqc.initialize(initial,iqc.qubits[1:])\n",
    "    iqc.s(0)\n",
    "    c_unitary = unitary.control(1)\n",
    "\n",
    "\n",
    "    iqc.append(c_unitary,iqc.qubits[:])\n",
    "\n",
    "    phase_shift = 2*np.pi*phase\n",
    "    iqc.p(-phase_shift,0)\n",
    "    iqc.h(0)\n",
    "    iqc.measure(0,0)\n",
    "\n",
    "    job = execute(iqc, backend, shots=1000)\n",
    "    result = job.result()\n",
    "    counts = result.get_counts()\n",
    "    ans2 = np.arcsin(counts['1']/(counts['0']+counts['1']))\n",
    "    return (ans1+ans2)/2"
   ]
  },
  {
   "cell_type": "code",
   "execution_count": null,
   "id": "2f24c047-6d45-4059-8ba8-44248ad6dea2",
   "metadata": {
    "tags": []
   },
   "outputs": [],
   "source": [
    "e = []\n",
    "for i in range(20):    \n",
    "    theta = aipe(4,unitary,normalized_wvfunc)\n",
    "    Energy = -2*np.pi*theta/0.03\n",
    "    e = e+[Energy]"
   ]
  },
  {
   "cell_type": "code",
   "execution_count": null,
   "id": "def1de77-9e0b-49de-9d9a-83da70d20077",
   "metadata": {
    "tags": []
   },
   "outputs": [],
   "source": [
    "en = np.array(e)\n",
    "energy = np.mean(en)\n",
    "energy"
   ]
  },
  {
   "cell_type": "code",
   "execution_count": null,
   "id": "295fc8ef-99ea-4d50-846f-04e7dc6afcb2",
   "metadata": {},
   "outputs": [],
   "source": [
    "e"
   ]
  },
  {
   "cell_type": "code",
   "execution_count": null,
   "id": "60d33b62-8a5b-4e5b-b6fc-d863e0682978",
   "metadata": {
    "tags": []
   },
   "outputs": [],
   "source": [
    "def qpe(n,unitary,initial):\n",
    "    qpc = QuantumCircuit(2*n,n)\n",
    "    for i in range(n):\n",
    "        qpc.h(i)\n",
    "    qpc.initialize(initial,qpc.qubits[n:2*n])\n",
    "    \n",
    "    c_unitary = unitary.control(1)\n",
    "    \n",
    "    for i in range(n):\n",
    "        for j in range(2**(n-i)):\n",
    "            qpc.append(c_unitary,[i]+[x for x in range(n,2*n)])\n",
    "    \n",
    "    inv_qft(qpc,0,n-1)\n",
    "    \n",
    "    for i in range(n):\n",
    "        qpc.measure(i,i)\n",
    "    return qpc"
   ]
  },
  {
   "cell_type": "code",
   "execution_count": null,
   "id": "94bce92d-5d63-416e-9a1b-d920d37be5ca",
   "metadata": {
    "tags": []
   },
   "outputs": [],
   "source": [
    "circ = qpe(4,unitary,normalized_wvfunc)"
   ]
  },
  {
   "cell_type": "code",
   "execution_count": null,
   "id": "9f4c90a6-c713-45ec-bfc6-11b3535a4c7a",
   "metadata": {
    "tags": []
   },
   "outputs": [],
   "source": [
    "job = execute(circ, backend, shots=1000)\n",
    "result = job.result()\n",
    "counts = result.get_counts()"
   ]
  },
  {
   "cell_type": "code",
   "execution_count": null,
   "id": "f168fb9d-a514-4749-b840-f5f4f5bde3eb",
   "metadata": {
    "tags": []
   },
   "outputs": [],
   "source": [
    "counts"
   ]
  },
  {
   "cell_type": "code",
   "execution_count": null,
   "id": "d29917c7-a5a5-4a3a-a9ce-a3df06f3a64a",
   "metadata": {
    "tags": []
   },
   "outputs": [],
   "source": [
    "a = list(counts.keys())\n",
    "b = [counts[i] for i in a]\n",
    "a = ['0b'+i for i in a]\n"
   ]
  },
  {
   "cell_type": "code",
   "execution_count": null,
   "id": "63aae976-e6dc-425b-8655-de834c9800cc",
   "metadata": {
    "tags": []
   },
   "outputs": [],
   "source": [
    "ans = 0\n",
    "for i in range(len(a)):\n",
    "    ans += int(a[i],2)*b[i]\n",
    "    "
   ]
  },
  {
   "cell_type": "code",
   "execution_count": null,
   "id": "5e2114ac-3b41-4be0-950d-112c7507638e",
   "metadata": {
    "tags": []
   },
   "outputs": [],
   "source": [
    "2*np.pi*ans/300"
   ]
  },
  {
   "cell_type": "code",
   "execution_count": null,
   "id": "d91e6d56-2f45-4b82-8faa-f1fabf288376",
   "metadata": {},
   "outputs": [],
   "source": []
  }
 ],
 "metadata": {
  "kernelspec": {
   "display_name": "Python 3 (ipykernel)",
   "language": "python",
   "name": "python3"
  },
  "language_info": {
   "codemirror_mode": {
    "name": "ipython",
    "version": 3
   },
   "file_extension": ".py",
   "mimetype": "text/x-python",
   "name": "python",
   "nbconvert_exporter": "python",
   "pygments_lexer": "ipython3",
   "version": "3.11.2"
  }
 },
 "nbformat": 4,
 "nbformat_minor": 5
}
