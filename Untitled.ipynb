{
 "cells": [
  {
   "cell_type": "code",
   "execution_count": 1,
   "id": "1921b655-c883-4f7c-8905-368bcafdd34b",
   "metadata": {
    "tags": []
   },
   "outputs": [
    {
     "name": "stderr",
     "output_type": "stream",
     "text": [
      "/Library/Frameworks/Python.framework/Versions/3.10/lib/python3.10/site-packages/qinfer/parallel.py:51: UserWarning: Could not import IPython parallel. Parallelization support will be disabled.\n",
      "  warnings.warn(\n"
     ]
    }
   ],
   "source": [
    "import numpy as np\n",
    "\n",
    "# importing Qiskit\n",
    "from qiskit import QuantumCircuit, transpile, assemble, Aer, IBMQ,execute, QuantumRegister\n",
    "from qiskit.utils import QuantumInstance\n",
    "from qiskit.providers.ibmq import least_busy\n",
    "from qiskit.tools.monitor import job_monitor\n",
    "from qiskit.visualization import plot_histogram, plot_bloch_multivector\n",
    "from qiskit import BasicAer\n",
    "from qiskit.circuit import Gate\n",
    "from qiskit.extensions import UnitaryGate\n",
    "from qinfer import distributions\n",
    "from qinfer.smc import SMCUpdater         # The QInfer Sequantial Monte-Carlo Sampler\n",
    "from qinfer import FiniteOutcomeModel\n",
    "from math import ceil\n",
    "import matplotlib.pyplot as plt\n",
    "\n",
    "from qiskit.opflow import I, X, Y, Z,StateFn\n",
    "\n",
    "\n",
    "import numpy as np\n",
    "import qinfer as qf\n",
    "import qiskit as qk\n",
    "import matplotlib as mpl\n",
    "\n",
    "from qiskit import QuantumCircuit\n",
    "from qiskit import IBMQ\n",
    "from qiskit.utils import QuantumInstance\n",
    "from qiskit.opflow import I, X, Y, Z,StateFn\n",
    "from qiskit.primitives import BaseSampler\n",
    "from qiskit import Aer,execute\n",
    "#from qiskit.providers.aer import noise\n",
    "from qiskit.algorithms import NumPyEigensolver\n",
    "from qiskit.algorithms.phase_estimators.ipe import IterativePhaseEstimation as IQPE\n",
    "from qiskit.quantum_info import Statevector\n",
    "from qiskit.quantum_info.operators import Operator\n",
    "from qinfer import distributions\n",
    "from qinfer.smc import SMCUpdater         # The QInfer Sequantial Monte-Carlo Sampler\n",
    "from qinfer import FiniteOutcomeModel\n",
    "import matplotlib.pyplot as plt\n",
    "import time"
   ]
  },
  {
   "cell_type": "code",
   "execution_count": 2,
   "id": "dbf0474b-cb4c-4244-a68a-fdde3247505f",
   "metadata": {},
   "outputs": [],
   "source": [
    "backend = BasicAer.get_backend('qasm_simulator')"
   ]
  },
  {
   "cell_type": "code",
   "execution_count": 17,
   "id": "80012e19-8083-47c8-8a5d-e973bc1b2555",
   "metadata": {},
   "outputs": [],
   "source": [
    "# Function definitions for the entire notebook\n",
    "EPS = 1e-15\n",
    "def chop(value):\n",
    "    if np.abs(value) <= EPS:\n",
    "        return 0\n",
    "    else:\n",
    "        return value\n",
    "def radiandiff(a,b):\n",
    "    FULL_ROTATION = 2 * np.pi\n",
    "    return np.min(np.abs([a - b, b - a, a - b + FULL_ROTATION, b - a + FULL_ROTATION]))\n",
    "def complexfromangle(angle):\n",
    "    real = chop(np.real(np.exp(1.j * angle)))\n",
    "    imag = chop(np.imag(np.exp(1.j * angle)))\n",
    "    return real,imag"
   ]
  },
  {
   "cell_type": "code",
   "execution_count": 18,
   "id": "737a1623-9b49-4369-96f9-5260e2d6b7a7",
   "metadata": {},
   "outputs": [],
   "source": [
    "# Set-up unitary with specified phase\n",
    "angle = 4 * np.pi / 5\n",
    "real,imag = complexfromangle(angle)\n",
    "\n",
    "PAULI_DICT_ZZ = (real + 1j*imag)*(Z^Z)\n",
    "QUBIT_OP_ZZ = PAULI_DICT_ZZ.to_circuit()\n",
    "eigen_results = NumPyEigensolver(k=4).compute_eigenvalues(operator = PAULI_DICT_ZZ, aux_operators=None)\n",
    "\n",
    "eigen_value = eigen_results.eigenvalues[0]\n",
    "eigen_vector = eigen_results.eigenstates[0]"
   ]
  },
  {
   "cell_type": "code",
   "execution_count": 43,
   "id": "b841049d-b948-4e5e-af2f-d6bb562dc55d",
   "metadata": {},
   "outputs": [
    {
     "name": "stdout",
     "output_type": "stream",
     "text": [
      "VectorStateFn(Statevector([1.+0.j, 0.+0.j, 0.+0.j, 0.+0.j],\n",
      "            dims=(2, 2)))\n"
     ]
    },
    {
     "data": {
      "text/plain": [
       "<qiskit.circuit.instructionset.InstructionSet at 0x1687243d0>"
      ]
     },
     "execution_count": 43,
     "metadata": {},
     "output_type": "execute_result"
    }
   ],
   "source": [
    "# Setup initial state as eigenvector\n",
    "state_in = eigen_vector\n",
    "print(state_in)\n",
    "state_preparation = QuantumCircuit(2)\n",
    "state_preparation.x(0)"
   ]
  },
  {
   "cell_type": "code",
   "execution_count": 24,
   "id": "52b8fdbc-6b50-4228-a5eb-0dd86f479636",
   "metadata": {},
   "outputs": [],
   "source": [
    "from qiskit import Aer"
   ]
  },
  {
   "cell_type": "code",
   "execution_count": 42,
   "id": "898d405d-0ebf-4006-ba6a-d91e91d44a33",
   "metadata": {},
   "outputs": [],
   "source": [
    "# Use QASM Simulator for testing\n",
    "simulator = BasicAer.get_backend('qasm_simulator')"
   ]
  },
  {
   "cell_type": "code",
   "execution_count": 28,
   "id": "0c9c800d-dcb3-45b4-bec8-25a0a0ce54f0",
   "metadata": {},
   "outputs": [],
   "source": [
    "# Bayesien Inference Parameters\n",
    "N_PARTICLES = 5000               # number of samples for PhaseSMCUpdater\n",
    "N_EXP = 100                       # Number of times to choose a new theta\n",
    "USE_QISKIT_QASM_SIMULATOR = True # Toggle parameter if we don't want to run any circuit simulations\n",
    "SIM_N_SHOTS=1024                 # number of shots for the circuit execution\n",
    "\n",
    "# DType list for experiment metric logging\n",
    "performance_dtype = [\n",
    "    ('outcome', 'i1'),\n",
    "    ('est_mean', 'f8'), ('est_cov_mat', 'f8'),\n",
    "    ('true_err', 'f8'), ('resample_count', 'i8'),\n",
    "    ('elapsed_time', 'f8'),\n",
    "    ('like_count', 'i8'), ('sim_count', 'i8'),\n",
    "    ('bme', 'f8'),\n",
    "    ('var', 'f8'),\n",
    "    ('bme_err', 'f8')\n",
    "]\n",
    "performance = np.empty((N_EXP), dtype=performance_dtype)"
   ]
  },
  {
   "cell_type": "code",
   "execution_count": 44,
   "id": "a628cbfd-b075-4430-a8b8-6f66a345b702",
   "metadata": {},
   "outputs": [
    {
     "ename": "AlgorithmError",
     "evalue": "'The primitive job failed!'",
     "output_type": "error",
     "traceback": [
      "\u001b[0;31m---------------------------------------------------------------------------\u001b[0m",
      "\u001b[0;31mTypeError\u001b[0m                                 Traceback (most recent call last)",
      "File \u001b[0;32m/Library/Frameworks/Python.framework/Versions/3.10/lib/python3.10/site-packages/qiskit/algorithms/phase_estimators/ipe.py:147\u001b[0m, in \u001b[0;36mIterativePhaseEstimation._estimate_phase_iteratively\u001b[0;34m(self, unitary, state_preparation)\u001b[0m\n\u001b[1;32m    146\u001b[0m \u001b[38;5;28;01mtry\u001b[39;00m:\n\u001b[0;32m--> 147\u001b[0m     sampler_job \u001b[38;5;241m=\u001b[39m \u001b[38;5;28;43mself\u001b[39;49m\u001b[38;5;241;43m.\u001b[39;49m\u001b[43m_sampler\u001b[49m\u001b[38;5;241;43m.\u001b[39;49m\u001b[43mrun\u001b[49m\u001b[43m(\u001b[49m\u001b[43m[\u001b[49m\u001b[43mqc\u001b[49m\u001b[43m]\u001b[49m\u001b[43m)\u001b[49m\n\u001b[1;32m    148\u001b[0m     result \u001b[38;5;241m=\u001b[39m sampler_job\u001b[38;5;241m.\u001b[39mresult()\u001b[38;5;241m.\u001b[39mquasi_dists[\u001b[38;5;241m0\u001b[39m]\n",
      "\u001b[0;31mTypeError\u001b[0m: BaseSampler.run() missing 1 required positional argument: 'circuits'",
      "\nThe above exception was the direct cause of the following exception:\n",
      "\u001b[0;31mAlgorithmError\u001b[0m                            Traceback (most recent call last)",
      "Input \u001b[0;32mIn [44]\u001b[0m, in \u001b[0;36m<cell line: 9>\u001b[0;34m()\u001b[0m\n\u001b[1;32m      3\u001b[0m qinstance \u001b[38;5;241m=\u001b[39m QuantumInstance(backend, seed_simulator\u001b[38;5;241m=\u001b[39m\u001b[38;5;241m2\u001b[39m, seed_transpiler\u001b[38;5;241m=\u001b[39m\u001b[38;5;241m2\u001b[39m)\n\u001b[1;32m      4\u001b[0m iqpe_builder \u001b[38;5;241m=\u001b[39m IQPE(\n\u001b[1;32m      5\u001b[0m     num_iterations\u001b[38;5;241m=\u001b[39m\u001b[38;5;241m1\u001b[39m,\n\u001b[1;32m      6\u001b[0m     quantum_instance \u001b[38;5;241m=\u001b[39m qinstance,\n\u001b[1;32m      7\u001b[0m     sampler \u001b[38;5;241m=\u001b[39m BaseSampler\n\u001b[1;32m      8\u001b[0m     )\n\u001b[0;32m----> 9\u001b[0m iqpe_results \u001b[38;5;241m=\u001b[39m iqpe_circ \u001b[38;5;241m=\u001b[39m \u001b[43miqpe_builder\u001b[49m\u001b[38;5;241;43m.\u001b[39;49m\u001b[43mestimate\u001b[49m\u001b[43m(\u001b[49m\u001b[43mQUBIT_OP_ZZ\u001b[49m\u001b[43m,\u001b[49m\u001b[43mstate_preparation\u001b[49m\u001b[43m)\u001b[49m\n",
      "File \u001b[0;32m/Library/Frameworks/Python.framework/Versions/3.10/lib/python3.10/site-packages/qiskit/algorithms/phase_estimators/ipe.py:197\u001b[0m, in \u001b[0;36mIterativePhaseEstimation.estimate\u001b[0;34m(self, unitary, state_preparation)\u001b[0m\n\u001b[1;32m    177\u001b[0m \u001b[38;5;28;01mdef\u001b[39;00m \u001b[38;5;21mestimate\u001b[39m(\n\u001b[1;32m    178\u001b[0m     \u001b[38;5;28mself\u001b[39m, unitary: QuantumCircuit, state_preparation: QuantumCircuit\n\u001b[1;32m    179\u001b[0m ) \u001b[38;5;241m-\u001b[39m\u001b[38;5;241m>\u001b[39m \u001b[38;5;124m\"\u001b[39m\u001b[38;5;124mIterativePhaseEstimationResult\u001b[39m\u001b[38;5;124m\"\u001b[39m:\n\u001b[1;32m    180\u001b[0m     \u001b[38;5;124;03m\"\"\"\u001b[39;00m\n\u001b[1;32m    181\u001b[0m \u001b[38;5;124;03m    Estimate the eigenphase of the input unitary and initial-state pair.\u001b[39;00m\n\u001b[1;32m    182\u001b[0m \n\u001b[0;32m   (...)\u001b[0m\n\u001b[1;32m    195\u001b[0m \u001b[38;5;124;03m        AlgorithmError: If neither sampler nor quantum instance is provided.\u001b[39;00m\n\u001b[1;32m    196\u001b[0m \u001b[38;5;124;03m    \"\"\"\u001b[39;00m\n\u001b[0;32m--> 197\u001b[0m     phase \u001b[38;5;241m=\u001b[39m \u001b[38;5;28;43mself\u001b[39;49m\u001b[38;5;241;43m.\u001b[39;49m\u001b[43m_estimate_phase_iteratively\u001b[49m\u001b[43m(\u001b[49m\u001b[43munitary\u001b[49m\u001b[43m,\u001b[49m\u001b[43m \u001b[49m\u001b[43mstate_preparation\u001b[49m\u001b[43m)\u001b[49m\n\u001b[1;32m    199\u001b[0m     \u001b[38;5;28;01mreturn\u001b[39;00m IterativePhaseEstimationResult(\u001b[38;5;28mself\u001b[39m\u001b[38;5;241m.\u001b[39m_num_iterations, phase)\n",
      "File \u001b[0;32m/Library/Frameworks/Python.framework/Versions/3.10/lib/python3.10/site-packages/qiskit/algorithms/phase_estimators/ipe.py:150\u001b[0m, in \u001b[0;36mIterativePhaseEstimation._estimate_phase_iteratively\u001b[0;34m(self, unitary, state_preparation)\u001b[0m\n\u001b[1;32m    148\u001b[0m         result \u001b[38;5;241m=\u001b[39m sampler_job\u001b[38;5;241m.\u001b[39mresult()\u001b[38;5;241m.\u001b[39mquasi_dists[\u001b[38;5;241m0\u001b[39m]\n\u001b[1;32m    149\u001b[0m     \u001b[38;5;28;01mexcept\u001b[39;00m \u001b[38;5;167;01mException\u001b[39;00m \u001b[38;5;28;01mas\u001b[39;00m exc:\n\u001b[0;32m--> 150\u001b[0m         \u001b[38;5;28;01mraise\u001b[39;00m AlgorithmError(\u001b[38;5;124m\"\u001b[39m\u001b[38;5;124mThe primitive job failed!\u001b[39m\u001b[38;5;124m\"\u001b[39m) \u001b[38;5;28;01mfrom\u001b[39;00m \u001b[38;5;21;01mexc\u001b[39;00m\n\u001b[1;32m    151\u001b[0m     x \u001b[38;5;241m=\u001b[39m \u001b[38;5;241m1\u001b[39m \u001b[38;5;28;01mif\u001b[39;00m result\u001b[38;5;241m.\u001b[39mget(\u001b[38;5;241m1\u001b[39m, \u001b[38;5;241m0\u001b[39m) \u001b[38;5;241m>\u001b[39m result\u001b[38;5;241m.\u001b[39mget(\u001b[38;5;241m0\u001b[39m, \u001b[38;5;241m0\u001b[39m) \u001b[38;5;28;01melse\u001b[39;00m \u001b[38;5;241m0\u001b[39m\n\u001b[1;32m    153\u001b[0m \u001b[38;5;28;01melif\u001b[39;00m \u001b[38;5;28mself\u001b[39m\u001b[38;5;241m.\u001b[39m_quantum_instance\u001b[38;5;241m.\u001b[39mis_statevector:\n",
      "\u001b[0;31mAlgorithmError\u001b[0m: 'The primitive job failed!'"
     ]
    }
   ],
   "source": [
    "# Construct IQPE circuit and simulate\n",
    "backend = BasicAer.get_backend('statevector_simulator')\n",
    "qinstance = QuantumInstance(backend, seed_simulator=2, seed_transpiler=2)\n",
    "iqpe_builder = IQPE(\n",
    "    num_iterations=1,\n",
    "    quantum_instance = qinstance,\n",
    "    sampler = BaseSampler\n",
    "    )\n",
    "iqpe_results = iqpe_circ = iqpe_builder.estimate(QUBIT_OP_ZZ,state_preparation)"
   ]
  },
  {
   "cell_type": "markdown",
   "id": "bf0c3c3b-a044-44ab-8058-5e125a10e765",
   "metadata": {
    "tags": []
   },
   "source": [
    "# h\n"
   ]
  },
  {
   "cell_type": "code",
   "execution_count": 3,
   "id": "81f522b1-8f59-482b-a382-999163fd2952",
   "metadata": {},
   "outputs": [],
   "source": [
    "def qft(qfc,m,n):\n",
    "    i = n\n",
    "    while i >= m :\n",
    "        qfc.h(i)\n",
    "        for j in range(m,i):\n",
    "            qfc.cp(2*np.pi*1/(2**(i-j+1)),i,j)\n",
    "        i-=1\n",
    "    for k in range(m,(n+1+m)//2):\n",
    "        qfc.swap(k,n+m-k)\n",
    "    #qfc.barrier()\n",
    "    return qfc"
   ]
  },
  {
   "cell_type": "code",
   "execution_count": 4,
   "id": "a06a4eb9-8527-46b4-856a-77cb9c9c04b2",
   "metadata": {},
   "outputs": [],
   "source": [
    "def inv_qft(iqfc,m,n):\n",
    "    qf = qft(QuantumCircuit(n-m+1),m,n)\n",
    "    iqf = qf.inverse()\n",
    "    iqfc.compose(iqf,iqfc.qubits[m:n+1])\n",
    "    return iqfc"
   ]
  },
  {
   "cell_type": "code",
   "execution_count": 5,
   "id": "18d842f6-e48c-41c3-b208-9b3c1d7a9e98",
   "metadata": {},
   "outputs": [],
   "source": [
    "def iqpe_circuit(n,unitary,initial,theta,k):\n",
    "    iqpc = QuantumCircuit(n+1,1)\n",
    "    iqpc.h(0)\n",
    "    iqpc.initicalize(initial,iqpc.qubits[1:])\n",
    "    c_unitary = unitary.control(1)\n",
    "    for i in range(2**(k-1)):\n",
    "        iqpc.append(c_unitary,[0]+[x for x in range(1,n+1)])\n",
    "    iqpc.p(theta,0)\n",
    "    iqpc.h(0)\n",
    "    iqpc.measure(0,0)\n",
    "    return iqpc"
   ]
  },
  {
   "cell_type": "code",
   "execution_count": 47,
   "id": "6de1e181-500a-4487-aa07-7e657e1bb88c",
   "metadata": {},
   "outputs": [],
   "source": [
    "def iqpe(n,unitary,initial,k_precision):\n",
    "    phase = 0\n",
    "    for k in reversed(range(k_precision)):\n",
    "        iqc = QuantumCircuit(n+1,1)\n",
    "        iqc.h(0)\n",
    "        iqc.initialize(initial,iqc.qubits[1:])\n",
    "        #iqc.x(1)\n",
    "        c_unitary = unitary.control(1)\n",
    "        \n",
    "        for order in range(2**k):\n",
    "            iqc.append(c_unitary,iqc.qubits[:])\n",
    " \n",
    "        phase_shift = 2*np.pi*phase*2**k\n",
    "        iqc.p(-phase_shift,0)\n",
    "        iqc.h(0)\n",
    "        iqc.measure(0,0)\n",
    "        \n",
    "        job = execute(iqc, backend, shots=1000)\n",
    "        result = job.result()\n",
    "        counts = result.get_counts()\n",
    "        value = int(max(counts, key=counts.get))\n",
    "        \n",
    "        phase += value / 2 ** (k + 1)\n",
    "        \n",
    "    return phase"
   ]
  },
  {
   "cell_type": "code",
   "execution_count": 48,
   "id": "ed260601-1c87-4455-b646-763a97a5f97e",
   "metadata": {},
   "outputs": [
    {
     "data": {
      "text/plain": [
       "0.375"
      ]
     },
     "execution_count": 48,
     "metadata": {},
     "output_type": "execute_result"
    }
   ],
   "source": [
    "qc = QuantumCircuit(1)\n",
    "qc.p(3*np.pi/4,0)\n",
    "un = qc.to_gate(label='unitary')\n",
    "\n",
    "\n",
    "iqpe(1,un,np.array([0,1]),4)"
   ]
  },
  {
   "cell_type": "code",
   "execution_count": 51,
   "id": "2a9c6052-d3ac-4881-af18-ea6420a28e6b",
   "metadata": {},
   "outputs": [],
   "source": [
    "#DEFINE PARAMETERS\n",
    "n = 4\n",
    "qubit_num = n #number of qubits\n",
    "qubit_tot = 2**qubit_num #number of possible states\n",
    "dt = 0.0012 #timestep\n",
    "v = 100 #potential within the system (v1, v0=0)\n",
    "iteration = 50 #number of iteration\n",
    "t = iteration*dt #time evolution\n",
    "ALPHA = -(2*np.pi*qubit_tot)**2/2 * dt"
   ]
  },
  {
   "cell_type": "code",
   "execution_count": 52,
   "id": "3a91d86d-627f-462a-9780-cd03884b377a",
   "metadata": {},
   "outputs": [],
   "source": [
    "def potential(circ,n):\n",
    "    \n",
    "    pot = -dt*v\n",
    "    i = 0 + 1j\n",
    "    potential_matrix = np.array([[np.exp(i*pot/2), 0], [0, np.exp(i*pot/2)]])\n",
    "    potential_gate = UnitaryGate(potential_matrix)\n",
    "    \n",
    "    #Create Potential unitary gate\n",
    "    qcc = QuantumCircuit(1)\n",
    "    qcc.append(potential_gate, [0])\n",
    "    potgate = qcc.to_gate(label='Potential').control(1)\n",
    "    \n",
    "    circ.x(n-2)\n",
    "    circ.cx(n-2,n-1)\n",
    "    circ.x(n-2)\n",
    "    #circ.barrier()\n",
    "    circ.x(n-1)\n",
    "    circ.append(potgate,[n-1,n-2])\n",
    "    circ.x(n-1)\n",
    "    #circ.barrier()\n",
    "    circ.x(n-2)\n",
    "    circ.cx(n-2,n-1)\n",
    "    circ.x(n-2)\n",
    "    \n",
    "    return circ"
   ]
  },
  {
   "cell_type": "code",
   "execution_count": 53,
   "id": "9e15c1d2-079c-4503-9978-062a04f20a33",
   "metadata": {},
   "outputs": [],
   "source": [
    "def constant_phase(circuit):\n",
    "    \"\"\"\n",
    "    Add constant phase to the circuit\n",
    "    Args:\n",
    "        circuit, register, number of qubits\n",
    "    \"\"\"\n",
    "    i = 0 + 1j\n",
    "    constant_phase = np.array([[np.exp(i*ALPHA/4), 0], [0, np.exp(i*ALPHA/4)]])\n",
    "    cp_gate = UnitaryGate(constant_phase, 'Constant')\n",
    "    circuit.append(cp_gate, [0])\n",
    "    #circuit.barrier()\n",
    "    \n",
    "    return circuit\n",
    "\n",
    "def rotate1(circuit, n):\n",
    "    \"\"\"\n",
    "    Add shift phase gate to the circuit\n",
    "    Args:\n",
    "        circuit, register, number of qubits\n",
    "    \"\"\"\n",
    "    \n",
    "    for m in range(n):\n",
    "        theta = -ALPHA * 2**(m-n)\n",
    "        circuit.p(theta, m)\n",
    "        \n",
    "    return circuit\n",
    "\n",
    "\n",
    "def rotate2(circuit,n):\n",
    "    \"\"\"\n",
    "    Add constant phase to the circuit\n",
    "    Args:\n",
    "        circuit, register, number of qubits\n",
    "    \"\"\"\n",
    "    \n",
    "    for m in range(n):\n",
    "        theta = ALPHA * 2**(2*(m-n))\n",
    "        circuit.p(theta, m)\n",
    "        \n",
    "    return circuit\n",
    "\n",
    "def kinetic(circuit, qubit):\n",
    "    \"\"\"\n",
    "    Define energy kinetic operator\n",
    "    Args:\n",
    "        circuit, register, number of qubits\n",
    "    Returns:\n",
    "        Add energy kinetics to the system\n",
    "    \"\"\"\n",
    "    \n",
    "    constant_phase(circuit)\n",
    "    rotate1(circuit,qubit)\n",
    "    rotate2(circuit,qubit)\n",
    "    \n",
    "    n = np.arange(qubit-1, -1, -1, dtype=float)\n",
    "    \n",
    "    for i in n:\n",
    "        for j in np.arange(i-1, -1, -1, dtype=float):\n",
    "            kin = 2*ALPHA*2**(j + i - 2*(len(n)))\n",
    "            circuit.cp(kin,int(j), int(i))\n",
    "            \n",
    "    return circuit\n",
    "\n"
   ]
  },
  {
   "cell_type": "code",
   "execution_count": 55,
   "id": "629576c1-d71f-4fd6-a86e-227b803e712e",
   "metadata": {},
   "outputs": [],
   "source": [
    "def time_evolution(circuit,qubit_num):\n",
    "    for i in range(iteration):\n",
    "        #POTENTIAL\n",
    "        potential(circuit,  qubit_num)\n",
    "        #circuit.barrier()\n",
    "\n",
    "        #QFT\n",
    "        qft(circuit,0,qubit_num-1)\n",
    "        #circuit.barrier()\n",
    "\n",
    "        #KINETIC\n",
    "        kinetic(circuit, qubit_num)\n",
    "        #circuit.barrier()\n",
    "\n",
    "        #INVERS QFT\n",
    "        circuit = inv_qft(circuit,0,qubit_num-1)\n",
    "        #circuit.barrier()\n",
    "\n",
    "\n",
    "        #POTENTIAL\n",
    "        potential(circuit,qubit_num)\n",
    "        #circuit.barrier()\n",
    "    return circuit\n",
    "\n",
    "\n",
    "unitary = QuantumCircuit(4)\n",
    "uni = time_evolution(unitary,4).to_gate(label=\"Unitary\")"
   ]
  },
  {
   "cell_type": "markdown",
   "id": "dee12d80-8c6f-4d6e-acfd-9128fd08b5bd",
   "metadata": {},
   "source": [
    "## Ground state of particle in square well potential"
   ]
  },
  {
   "cell_type": "code",
   "execution_count": 56,
   "id": "70bbbc98-1107-4d7d-8849-c39c9e1aedb8",
   "metadata": {},
   "outputs": [
    {
     "data": {
      "image/png": "[encoded data removed]",
      "text/plain": [
       "<Figure size 432x288 with 1 Axes>"
      ]
     },
     "metadata": {
      "needs_background": "light"
     },
     "output_type": "display_data"
    }
   ],
   "source": [
    "#DEFINE INITIAL WAVEFUNCTION\n",
    "\n",
    "L = 0.5 #width of square well\n",
    "n = 4 #number of qubits\n",
    "x = np.linspace(-L, L, num=2**n) #number of x points\n",
    "\n",
    "wvfunc = np.exp(-10*x**2) #Initial wavefunciton\n",
    "Normalisation_Constant = np.sqrt(np.sum(wvfunc**2)) \n",
    "normalized_wvfunc = wvfunc / Normalisation_Constant ##Normalized initial wavefunction\n",
    "\n",
    "plt.plot(x, normalized_wvfunc)\n",
    "plt.show()"
   ]
  },
  {
   "cell_type": "code",
   "execution_count": 57,
   "id": "b0b8eea1-9396-471e-bb75-4ab9da872b99",
   "metadata": {},
   "outputs": [
    {
     "data": {
      "text/plain": [
       "0.8125"
      ]
     },
     "execution_count": 57,
     "metadata": {},
     "output_type": "execute_result"
    }
   ],
   "source": [
    "iqpe(4,uni,normalized_wvfunc,5)"
   ]
  },
  {
   "cell_type": "code",
   "execution_count": 70,
   "id": "62ef5d97-eac1-4f61-b6fd-7ee55ed00d25",
   "metadata": {},
   "outputs": [
    {
     "data": {
      "text/plain": [
       "-85.08480103472357"
      ]
     },
     "execution_count": 70,
     "metadata": {},
     "output_type": "execute_result"
    }
   ],
   "source": [
    "-2*np.pi*0.8125/t"
   ]
  },
  {
   "cell_type": "code",
   "execution_count": 60,
   "id": "1177ffb7-378c-42db-902b-ca5d7bfe2139",
   "metadata": {},
   "outputs": [
    {
     "data": {
      "text/plain": [
       "0.8125"
      ]
     },
     "execution_count": 60,
     "metadata": {},
     "output_type": "execute_result"
    }
   ],
   "source": [
    "iqpe(4,uni,normalized_wvfunc,6)"
   ]
  },
  {
   "cell_type": "markdown",
   "id": "1fbddbb4-fcbf-4099-8149-a259287d1beb",
   "metadata": {
    "tags": []
   },
   "source": [
    "## First Excited state of particle in square well potential"
   ]
  },
  {
   "cell_type": "code",
   "execution_count": 63,
   "id": "4f699f14-142a-408e-b8a7-cc9d5aa8f945",
   "metadata": {
    "tags": []
   },
   "outputs": [
    {
     "data": {
      "image/png": "[encoded data removed]",
      "text/plain": [
       "<Figure size 432x288 with 1 Axes>"
      ]
     },
     "metadata": {
      "needs_background": "light"
     },
     "output_type": "display_data"
    }
   ],
   "source": [
    "#DEFINE INITIAL WAVEFUNCTION\n",
    "\n",
    "L = 0.5 #width of square well\n",
    "n = 4 #number of qubits\n",
    "x = np.linspace(-L, L, num=2**n) #number of x points\n",
    "\n",
    "wvfunc = x*np.exp(-10*x**2) #Initial wavefunciton\n",
    "Normalisation_Constant = np.sqrt(np.sum(wvfunc**2)) \n",
    "normalized_wvfunc = wvfunc / Normalisation_Constant ##Normalized initial wavefunction\n",
    "\n",
    "plt.plot(x, normalized_wvfunc)\n",
    "plt.show()"
   ]
  },
  {
   "cell_type": "code",
   "execution_count": 66,
   "id": "260efdd2-fa37-4b8e-b8d0-ca85b9ef3ffd",
   "metadata": {},
   "outputs": [
    {
     "data": {
      "text/plain": [
       "0.5"
      ]
     },
     "execution_count": 66,
     "metadata": {},
     "output_type": "execute_result"
    }
   ],
   "source": [
    "iqpe(4,uni,normalized_wvfunc,3)"
   ]
  },
  {
   "cell_type": "code",
   "execution_count": 69,
   "id": "6b559743-1481-44ef-8f69-138ee04d19e5",
   "metadata": {},
   "outputs": [
    {
     "data": {
      "text/plain": [
       "-52.35987755982989"
      ]
     },
     "execution_count": 69,
     "metadata": {},
     "output_type": "execute_result"
    }
   ],
   "source": [
    "-2*np.pi*0.5/t"
   ]
  },
  {
   "cell_type": "markdown",
   "id": "a67cc911-772b-4761-9c8c-c04ccba2912e",
   "metadata": {},
   "source": [
    "## Free Particle"
   ]
  },
  {
   "cell_type": "code",
   "execution_count": null,
   "id": "b611f4ef-bff2-4cb1-b106-d208f0175adb",
   "metadata": {},
   "outputs": [],
   "source": [
    "def time_evolution_free_particle(circuit,qubit_num):\n",
    "    for i in range(iteration):\n",
    "        #QFT\n",
    "        qft(circuit,0,qubit_num-1)\n",
    "        #circuit.barrier()\n",
    "\n",
    "        #KINETIC\n",
    "        kinetic(circuit, qubit_num)\n",
    "        #circuit.barrier()\n",
    "\n",
    "        #INVERS QFT\n",
    "        circuit = inv_qft(circuit,0,qubit_num-1)\n",
    "        #circuit.barrier()\n",
    "    return circuit\n",
    "unitary_free_particle = QuantumCircuit(4)\n",
    "uni_free = time_evolution_free_particle(unitary,4).to_gate(label=\"Unitary_free_particle\")"
   ]
  },
  {
   "cell_type": "code",
   "execution_count": 71,
   "id": "7acd8c01-1002-4eee-bf73-b52aabdb0af0",
   "metadata": {},
   "outputs": [
    {
     "data": {
      "image/png": "[encoded data removed]",
      "text/plain": [
       "<Figure size 432x288 with 1 Axes>"
      ]
     },
     "metadata": {
      "needs_background": "light"
     },
     "output_type": "display_data"
    }
   ],
   "source": [
    "#DEFINE INITIAL WAVEFUNCTION\n",
    "\n",
    "L = 0.5 #width of square well\n",
    "n = 4 #number of qubits\n",
    "x = np.linspace(-L, L, num=2**n) #number of x points\n",
    "\n",
    "wvfunc = np.exp(-10*x**2) #Initial wavefunciton\n",
    "Normalisation_Constant = np.sqrt(np.sum(wvfunc**2)) \n",
    "normalized_wvfunc = wvfunc / Normalisation_Constant ##Normalized initial wavefunction\n",
    "\n",
    "plt.plot(x, normalized_wvfunc)\n",
    "plt.show()"
   ]
  },
  {
   "cell_type": "code",
   "execution_count": 72,
   "id": "94a9178b-ae61-46e4-80b7-d0ed3703d435",
   "metadata": {},
   "outputs": [
    {
     "data": {
      "text/plain": [
       "0.8125"
      ]
     },
     "execution_count": 72,
     "metadata": {},
     "output_type": "execute_result"
    }
   ],
   "source": [
    "iqpe(4,uni_free,normalized_wvfunc,4)"
   ]
  },
  {
   "cell_type": "code",
   "execution_count": null,
   "id": "4e61df30-aa45-4fa0-8e4a-d1e000fd511c",
   "metadata": {},
   "outputs": [],
   "source": []
  },
  {
   "cell_type": "code",
   "execution_count": null,
   "id": "7e04a07d-a315-42f2-8aa8-6405e4a4387e",
   "metadata": {},
   "outputs": [],
   "source": []
  }
 ],
 "metadata": {
  "kernelspec": {
   "display_name": "Python 3 (ipykernel)",
   "language": "python",
   "name": "python3"
  },
  "language_info": {
   "codemirror_mode": {
    "name": "ipython",
    "version": 3
   },
   "file_extension": ".py",
   "mimetype": "text/x-python",
   "name": "python",
   "nbconvert_exporter": "python",
   "pygments_lexer": "ipython3",
   "version": "3.10.4"
  }
 },
 "nbformat": 4,
 "nbformat_minor": 5
}
